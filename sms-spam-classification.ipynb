{
 "cells": [
  {
   "cell_type": "markdown",
   "metadata": {
    "_cell_guid": "b1076dfc-b9ad-4769-8c92-a6c4dae69d19",
    "_uuid": "8f2839f25d086af736a60e9eeb907d3b93b6e0e5"
   },
   "source": [
    "# SMS Spam Classification"
   ]
  },
  {
   "cell_type": "code",
   "execution_count": 44,
   "metadata": {
    "execution": {
     "iopub.execute_input": "2022-07-10T10:42:57.196835Z",
     "iopub.status.busy": "2022-07-10T10:42:57.195876Z",
     "iopub.status.idle": "2022-07-10T10:42:57.202259Z",
     "shell.execute_reply": "2022-07-10T10:42:57.201438Z",
     "shell.execute_reply.started": "2022-07-10T10:42:57.196764Z"
    }
   },
   "outputs": [],
   "source": [
    "import pandas as pd\n",
    "import numpy as np\n",
    "from nltk.stem.porter import PorterStemmer"
   ]
  },
  {
   "cell_type": "code",
   "execution_count": 2,
   "metadata": {
    "execution": {
     "iopub.execute_input": "2022-07-10T10:42:57.205385Z",
     "iopub.status.busy": "2022-07-10T10:42:57.204619Z",
     "iopub.status.idle": "2022-07-10T10:42:57.233947Z",
     "shell.execute_reply": "2022-07-10T10:42:57.233051Z",
     "shell.execute_reply.started": "2022-07-10T10:42:57.20534Z"
    }
   },
   "outputs": [],
   "source": [
    "df = pd.read_csv('spam.csv',encoding='latin-1')"
   ]
  },
  {
   "cell_type": "code",
   "execution_count": 3,
   "metadata": {
    "execution": {
     "iopub.execute_input": "2022-07-10T10:42:57.238772Z",
     "iopub.status.busy": "2022-07-10T10:42:57.238045Z",
     "iopub.status.idle": "2022-07-10T10:42:57.251925Z",
     "shell.execute_reply": "2022-07-10T10:42:57.251062Z",
     "shell.execute_reply.started": "2022-07-10T10:42:57.238728Z"
    }
   },
   "outputs": [
    {
     "data": {
      "text/html": [
       "<div>\n",
       "<style scoped>\n",
       "    .dataframe tbody tr th:only-of-type {\n",
       "        vertical-align: middle;\n",
       "    }\n",
       "\n",
       "    .dataframe tbody tr th {\n",
       "        vertical-align: top;\n",
       "    }\n",
       "\n",
       "    .dataframe thead th {\n",
       "        text-align: right;\n",
       "    }\n",
       "</style>\n",
       "<table border=\"1\" class=\"dataframe\">\n",
       "  <thead>\n",
       "    <tr style=\"text-align: right;\">\n",
       "      <th></th>\n",
       "      <th>v1</th>\n",
       "      <th>v2</th>\n",
       "      <th>Unnamed: 2</th>\n",
       "      <th>Unnamed: 3</th>\n",
       "      <th>Unnamed: 4</th>\n",
       "    </tr>\n",
       "  </thead>\n",
       "  <tbody>\n",
       "    <tr>\n",
       "      <th>894</th>\n",
       "      <td>ham</td>\n",
       "      <td>Doesn't g have class early tomorrow and thus s...</td>\n",
       "      <td>NaN</td>\n",
       "      <td>NaN</td>\n",
       "      <td>NaN</td>\n",
       "    </tr>\n",
       "    <tr>\n",
       "      <th>2052</th>\n",
       "      <td>spam</td>\n",
       "      <td>Call 09094100151 to use ur mins! Calls cast 10...</td>\n",
       "      <td>NaN</td>\n",
       "      <td>NaN</td>\n",
       "      <td>NaN</td>\n",
       "    </tr>\n",
       "    <tr>\n",
       "      <th>450</th>\n",
       "      <td>ham</td>\n",
       "      <td>hanks lotsly!</td>\n",
       "      <td>NaN</td>\n",
       "      <td>NaN</td>\n",
       "      <td>NaN</td>\n",
       "    </tr>\n",
       "    <tr>\n",
       "      <th>3235</th>\n",
       "      <td>ham</td>\n",
       "      <td>Aight text me when you're back at mu and I'll ...</td>\n",
       "      <td>NaN</td>\n",
       "      <td>NaN</td>\n",
       "      <td>NaN</td>\n",
       "    </tr>\n",
       "    <tr>\n",
       "      <th>1604</th>\n",
       "      <td>ham</td>\n",
       "      <td>God picked up a flower and dippeditinaDEW, lov...</td>\n",
       "      <td>NaN</td>\n",
       "      <td>NaN</td>\n",
       "      <td>NaN</td>\n",
       "    </tr>\n",
       "  </tbody>\n",
       "</table>\n",
       "</div>"
      ],
      "text/plain": [
       "        v1                                                 v2 Unnamed: 2  \\\n",
       "894    ham  Doesn't g have class early tomorrow and thus s...        NaN   \n",
       "2052  spam  Call 09094100151 to use ur mins! Calls cast 10...        NaN   \n",
       "450    ham                                      hanks lotsly!        NaN   \n",
       "3235   ham  Aight text me when you're back at mu and I'll ...        NaN   \n",
       "1604   ham  God picked up a flower and dippeditinaDEW, lov...        NaN   \n",
       "\n",
       "     Unnamed: 3 Unnamed: 4  \n",
       "894         NaN        NaN  \n",
       "2052        NaN        NaN  \n",
       "450         NaN        NaN  \n",
       "3235        NaN        NaN  \n",
       "1604        NaN        NaN  "
      ]
     },
     "execution_count": 3,
     "metadata": {},
     "output_type": "execute_result"
    }
   ],
   "source": [
    "df.sample(5)"
   ]
  },
  {
   "cell_type": "code",
   "execution_count": 4,
   "metadata": {
    "execution": {
     "iopub.execute_input": "2022-07-10T10:42:57.255237Z",
     "iopub.status.busy": "2022-07-10T10:42:57.254251Z",
     "iopub.status.idle": "2022-07-10T10:42:57.260669Z",
     "shell.execute_reply": "2022-07-10T10:42:57.25998Z",
     "shell.execute_reply.started": "2022-07-10T10:42:57.255203Z"
    }
   },
   "outputs": [
    {
     "data": {
      "text/plain": [
       "(5572, 5)"
      ]
     },
     "execution_count": 4,
     "metadata": {},
     "output_type": "execute_result"
    }
   ],
   "source": [
    "df.shape"
   ]
  },
  {
   "cell_type": "markdown",
   "metadata": {},
   "source": [
    "**Now lets start working with the data and make some amazing conclusions**"
   ]
  },
  {
   "cell_type": "markdown",
   "metadata": {
    "execution": {
     "iopub.execute_input": "2022-07-10T04:35:58.217491Z",
     "iopub.status.busy": "2022-07-10T04:35:58.216357Z",
     "iopub.status.idle": "2022-07-10T04:35:58.221486Z",
     "shell.execute_reply": "2022-07-10T04:35:58.220739Z",
     "shell.execute_reply.started": "2022-07-10T04:35:58.217454Z"
    }
   },
   "source": [
    "## 1. Data Cleaning\n",
    "## 2. EDA\n",
    "## 3. Data Preprocessing --vectorization,stemming,remove stop words\n",
    "## 4. Model Building\n",
    "## 5. Evaluate the model\n",
    "## 6. Improve the model\n",
    "## 7. Website\n",
    "## 8. Deployment on Heroku\n"
   ]
  },
  {
   "cell_type": "markdown",
   "metadata": {},
   "source": [
    "# 1. Data Cleaning"
   ]
  },
  {
   "cell_type": "code",
   "execution_count": 5,
   "metadata": {
    "execution": {
     "iopub.execute_input": "2022-07-10T10:42:57.262183Z",
     "iopub.status.busy": "2022-07-10T10:42:57.261882Z",
     "iopub.status.idle": "2022-07-10T10:42:57.28116Z",
     "shell.execute_reply": "2022-07-10T10:42:57.280359Z",
     "shell.execute_reply.started": "2022-07-10T10:42:57.262156Z"
    }
   },
   "outputs": [
    {
     "name": "stdout",
     "output_type": "stream",
     "text": [
      "<class 'pandas.core.frame.DataFrame'>\n",
      "RangeIndex: 5572 entries, 0 to 5571\n",
      "Data columns (total 5 columns):\n",
      " #   Column      Non-Null Count  Dtype \n",
      "---  ------      --------------  ----- \n",
      " 0   v1          5572 non-null   object\n",
      " 1   v2          5572 non-null   object\n",
      " 2   Unnamed: 2  50 non-null     object\n",
      " 3   Unnamed: 3  12 non-null     object\n",
      " 4   Unnamed: 4  6 non-null      object\n",
      "dtypes: object(5)\n",
      "memory usage: 217.8+ KB\n"
     ]
    }
   ],
   "source": [
    "df.info()"
   ]
  },
  {
   "cell_type": "code",
   "execution_count": 6,
   "metadata": {
    "execution": {
     "iopub.execute_input": "2022-07-10T10:42:57.283286Z",
     "iopub.status.busy": "2022-07-10T10:42:57.282412Z",
     "iopub.status.idle": "2022-07-10T10:42:57.301489Z",
     "shell.execute_reply": "2022-07-10T10:42:57.300333Z",
     "shell.execute_reply.started": "2022-07-10T10:42:57.283257Z"
    }
   },
   "outputs": [
    {
     "data": {
      "text/html": [
       "<div>\n",
       "<style scoped>\n",
       "    .dataframe tbody tr th:only-of-type {\n",
       "        vertical-align: middle;\n",
       "    }\n",
       "\n",
       "    .dataframe tbody tr th {\n",
       "        vertical-align: top;\n",
       "    }\n",
       "\n",
       "    .dataframe thead th {\n",
       "        text-align: right;\n",
       "    }\n",
       "</style>\n",
       "<table border=\"1\" class=\"dataframe\">\n",
       "  <thead>\n",
       "    <tr style=\"text-align: right;\">\n",
       "      <th></th>\n",
       "      <th>v1</th>\n",
       "      <th>v2</th>\n",
       "    </tr>\n",
       "  </thead>\n",
       "  <tbody>\n",
       "    <tr>\n",
       "      <th>1853</th>\n",
       "      <td>ham</td>\n",
       "      <td>I just made some payments so dont have that mu...</td>\n",
       "    </tr>\n",
       "    <tr>\n",
       "      <th>454</th>\n",
       "      <td>spam</td>\n",
       "      <td>Loan for any purpose å£500 - å£75,000. Homeown...</td>\n",
       "    </tr>\n",
       "    <tr>\n",
       "      <th>4495</th>\n",
       "      <td>ham</td>\n",
       "      <td>In case you wake up wondering where I am, I fo...</td>\n",
       "    </tr>\n",
       "    <tr>\n",
       "      <th>4329</th>\n",
       "      <td>ham</td>\n",
       "      <td>i thought we were doing a king of the hill thi...</td>\n",
       "    </tr>\n",
       "    <tr>\n",
       "      <th>502</th>\n",
       "      <td>ham</td>\n",
       "      <td>Check with nuerologist.</td>\n",
       "    </tr>\n",
       "  </tbody>\n",
       "</table>\n",
       "</div>"
      ],
      "text/plain": [
       "        v1                                                 v2\n",
       "1853   ham  I just made some payments so dont have that mu...\n",
       "454   spam  Loan for any purpose å£500 - å£75,000. Homeown...\n",
       "4495   ham  In case you wake up wondering where I am, I fo...\n",
       "4329   ham  i thought we were doing a king of the hill thi...\n",
       "502    ham                            Check with nuerologist."
      ]
     },
     "execution_count": 6,
     "metadata": {},
     "output_type": "execute_result"
    }
   ],
   "source": [
    "# the above information shows that columns 2 3 4 have too much null values so it is good to drop it\n",
    "df.drop(columns=['Unnamed: 2','Unnamed: 3','Unnamed: 4'],inplace= True)\n",
    "#inplace= True because we permanently want to bring change in the original dataset\n",
    "df.sample(5)"
   ]
  },
  {
   "cell_type": "code",
   "execution_count": 7,
   "metadata": {
    "execution": {
     "iopub.execute_input": "2022-07-10T10:42:57.303759Z",
     "iopub.status.busy": "2022-07-10T10:42:57.303163Z",
     "iopub.status.idle": "2022-07-10T10:42:57.31377Z",
     "shell.execute_reply": "2022-07-10T10:42:57.312304Z",
     "shell.execute_reply.started": "2022-07-10T10:42:57.30373Z"
    }
   },
   "outputs": [],
   "source": [
    "# as the column names are not to descriptive lets rename the names of the columns\n",
    "df.rename(columns={'v1':'message_type', 'v2':'message'},inplace=True)"
   ]
  },
  {
   "cell_type": "code",
   "execution_count": 8,
   "metadata": {
    "execution": {
     "iopub.execute_input": "2022-07-10T10:42:57.315542Z",
     "iopub.status.busy": "2022-07-10T10:42:57.314879Z",
     "iopub.status.idle": "2022-07-10T10:42:57.33203Z",
     "shell.execute_reply": "2022-07-10T10:42:57.330837Z",
     "shell.execute_reply.started": "2022-07-10T10:42:57.315506Z"
    }
   },
   "outputs": [
    {
     "data": {
      "text/html": [
       "<div>\n",
       "<style scoped>\n",
       "    .dataframe tbody tr th:only-of-type {\n",
       "        vertical-align: middle;\n",
       "    }\n",
       "\n",
       "    .dataframe tbody tr th {\n",
       "        vertical-align: top;\n",
       "    }\n",
       "\n",
       "    .dataframe thead th {\n",
       "        text-align: right;\n",
       "    }\n",
       "</style>\n",
       "<table border=\"1\" class=\"dataframe\">\n",
       "  <thead>\n",
       "    <tr style=\"text-align: right;\">\n",
       "      <th></th>\n",
       "      <th>message_type</th>\n",
       "      <th>message</th>\n",
       "    </tr>\n",
       "  </thead>\n",
       "  <tbody>\n",
       "    <tr>\n",
       "      <th>5023</th>\n",
       "      <td>ham</td>\n",
       "      <td>Where you. What happen</td>\n",
       "    </tr>\n",
       "    <tr>\n",
       "      <th>1924</th>\n",
       "      <td>ham</td>\n",
       "      <td>Ok</td>\n",
       "    </tr>\n",
       "    <tr>\n",
       "      <th>1700</th>\n",
       "      <td>ham</td>\n",
       "      <td>Please ask mummy to call father</td>\n",
       "    </tr>\n",
       "    <tr>\n",
       "      <th>1980</th>\n",
       "      <td>ham</td>\n",
       "      <td>Sorry, I'll call later</td>\n",
       "    </tr>\n",
       "    <tr>\n",
       "      <th>1999</th>\n",
       "      <td>ham</td>\n",
       "      <td>LMAO where's your fish memory when I need it?</td>\n",
       "    </tr>\n",
       "  </tbody>\n",
       "</table>\n",
       "</div>"
      ],
      "text/plain": [
       "     message_type                                        message\n",
       "5023          ham                         Where you. What happen\n",
       "1924          ham                                             Ok\n",
       "1700          ham                Please ask mummy to call father\n",
       "1980          ham                         Sorry, I'll call later\n",
       "1999          ham  LMAO where's your fish memory when I need it?"
      ]
     },
     "execution_count": 8,
     "metadata": {},
     "output_type": "execute_result"
    }
   ],
   "source": [
    "df.sample(5)"
   ]
  },
  {
   "cell_type": "code",
   "execution_count": 9,
   "metadata": {
    "execution": {
     "iopub.execute_input": "2022-07-10T10:42:57.335048Z",
     "iopub.status.busy": "2022-07-10T10:42:57.334514Z",
     "iopub.status.idle": "2022-07-10T10:42:57.338526Z",
     "shell.execute_reply": "2022-07-10T10:42:57.337685Z",
     "shell.execute_reply.started": "2022-07-10T10:42:57.335009Z"
    }
   },
   "outputs": [],
   "source": [
    "# in the message type, they are classified as 'ham' and 'spam' but we want it as 1 and O so lets import Label Encoder"
   ]
  },
  {
   "cell_type": "code",
   "execution_count": 10,
   "metadata": {
    "execution": {
     "iopub.execute_input": "2022-07-10T10:42:57.340442Z",
     "iopub.status.busy": "2022-07-10T10:42:57.339689Z",
     "iopub.status.idle": "2022-07-10T10:42:57.349869Z",
     "shell.execute_reply": "2022-07-10T10:42:57.34907Z",
     "shell.execute_reply.started": "2022-07-10T10:42:57.340408Z"
    }
   },
   "outputs": [],
   "source": [
    "from sklearn.preprocessing import LabelEncoder\n",
    "encoder =LabelEncoder()"
   ]
  },
  {
   "cell_type": "code",
   "execution_count": 11,
   "metadata": {
    "execution": {
     "iopub.execute_input": "2022-07-10T10:42:57.351718Z",
     "iopub.status.busy": "2022-07-10T10:42:57.351159Z",
     "iopub.status.idle": "2022-07-10T10:42:57.367915Z",
     "shell.execute_reply": "2022-07-10T10:42:57.366575Z",
     "shell.execute_reply.started": "2022-07-10T10:42:57.351689Z"
    }
   },
   "outputs": [
    {
     "data": {
      "text/plain": [
       "500     0\n",
       "5253    0\n",
       "4176    0\n",
       "4482    0\n",
       "3990    0\n",
       "Name: message_type, dtype: int64"
      ]
     },
     "execution_count": 11,
     "metadata": {},
     "output_type": "execute_result"
    }
   ],
   "source": [
    "df['message_type']=encoder.fit_transform(df['message_type'])\n",
    "df['message_type'].sample(5)"
   ]
  },
  {
   "cell_type": "code",
   "execution_count": 12,
   "metadata": {
    "execution": {
     "iopub.execute_input": "2022-07-10T10:42:57.370983Z",
     "iopub.status.busy": "2022-07-10T10:42:57.370158Z",
     "iopub.status.idle": "2022-07-10T10:42:57.385561Z",
     "shell.execute_reply": "2022-07-10T10:42:57.384828Z",
     "shell.execute_reply.started": "2022-07-10T10:42:57.37094Z"
    }
   },
   "outputs": [
    {
     "data": {
      "text/html": [
       "<div>\n",
       "<style scoped>\n",
       "    .dataframe tbody tr th:only-of-type {\n",
       "        vertical-align: middle;\n",
       "    }\n",
       "\n",
       "    .dataframe tbody tr th {\n",
       "        vertical-align: top;\n",
       "    }\n",
       "\n",
       "    .dataframe thead th {\n",
       "        text-align: right;\n",
       "    }\n",
       "</style>\n",
       "<table border=\"1\" class=\"dataframe\">\n",
       "  <thead>\n",
       "    <tr style=\"text-align: right;\">\n",
       "      <th></th>\n",
       "      <th>message_type</th>\n",
       "      <th>message</th>\n",
       "    </tr>\n",
       "  </thead>\n",
       "  <tbody>\n",
       "    <tr>\n",
       "      <th>2</th>\n",
       "      <td>1</td>\n",
       "      <td>Free entry in 2 a wkly comp to win FA Cup fina...</td>\n",
       "    </tr>\n",
       "    <tr>\n",
       "      <th>5</th>\n",
       "      <td>1</td>\n",
       "      <td>FreeMsg Hey there darling it's been 3 week's n...</td>\n",
       "    </tr>\n",
       "    <tr>\n",
       "      <th>8</th>\n",
       "      <td>1</td>\n",
       "      <td>WINNER!! As a valued network customer you have...</td>\n",
       "    </tr>\n",
       "    <tr>\n",
       "      <th>9</th>\n",
       "      <td>1</td>\n",
       "      <td>Had your mobile 11 months or more? U R entitle...</td>\n",
       "    </tr>\n",
       "    <tr>\n",
       "      <th>11</th>\n",
       "      <td>1</td>\n",
       "      <td>SIX chances to win CASH! From 100 to 20,000 po...</td>\n",
       "    </tr>\n",
       "    <tr>\n",
       "      <th>...</th>\n",
       "      <td>...</td>\n",
       "      <td>...</td>\n",
       "    </tr>\n",
       "    <tr>\n",
       "      <th>5537</th>\n",
       "      <td>1</td>\n",
       "      <td>Want explicit SEX in 30 secs? Ring 02073162414...</td>\n",
       "    </tr>\n",
       "    <tr>\n",
       "      <th>5540</th>\n",
       "      <td>1</td>\n",
       "      <td>ASKED 3MOBILE IF 0870 CHATLINES INCLU IN FREE ...</td>\n",
       "    </tr>\n",
       "    <tr>\n",
       "      <th>5547</th>\n",
       "      <td>1</td>\n",
       "      <td>Had your contract mobile 11 Mnths? Latest Moto...</td>\n",
       "    </tr>\n",
       "    <tr>\n",
       "      <th>5566</th>\n",
       "      <td>1</td>\n",
       "      <td>REMINDER FROM O2: To get 2.50 pounds free call...</td>\n",
       "    </tr>\n",
       "    <tr>\n",
       "      <th>5567</th>\n",
       "      <td>1</td>\n",
       "      <td>This is the 2nd time we have tried 2 contact u...</td>\n",
       "    </tr>\n",
       "  </tbody>\n",
       "</table>\n",
       "<p>747 rows × 2 columns</p>\n",
       "</div>"
      ],
      "text/plain": [
       "      message_type                                            message\n",
       "2                1  Free entry in 2 a wkly comp to win FA Cup fina...\n",
       "5                1  FreeMsg Hey there darling it's been 3 week's n...\n",
       "8                1  WINNER!! As a valued network customer you have...\n",
       "9                1  Had your mobile 11 months or more? U R entitle...\n",
       "11               1  SIX chances to win CASH! From 100 to 20,000 po...\n",
       "...            ...                                                ...\n",
       "5537             1  Want explicit SEX in 30 secs? Ring 02073162414...\n",
       "5540             1  ASKED 3MOBILE IF 0870 CHATLINES INCLU IN FREE ...\n",
       "5547             1  Had your contract mobile 11 Mnths? Latest Moto...\n",
       "5566             1  REMINDER FROM O2: To get 2.50 pounds free call...\n",
       "5567             1  This is the 2nd time we have tried 2 contact u...\n",
       "\n",
       "[747 rows x 2 columns]"
      ]
     },
     "execution_count": 12,
     "metadata": {},
     "output_type": "execute_result"
    }
   ],
   "source": [
    "df[df['message_type']==1]\n",
    "# there are 747 spam messages in the dataset"
   ]
  },
  {
   "cell_type": "code",
   "execution_count": 13,
   "metadata": {
    "execution": {
     "iopub.execute_input": "2022-07-10T10:42:57.387322Z",
     "iopub.status.busy": "2022-07-10T10:42:57.386853Z",
     "iopub.status.idle": "2022-07-10T10:42:57.395369Z",
     "shell.execute_reply": "2022-07-10T10:42:57.394496Z",
     "shell.execute_reply.started": "2022-07-10T10:42:57.387296Z"
    }
   },
   "outputs": [
    {
     "data": {
      "text/plain": [
       "message_type    0\n",
       "message         0\n",
       "dtype: int64"
      ]
     },
     "execution_count": 13,
     "metadata": {},
     "output_type": "execute_result"
    }
   ],
   "source": [
    "#now lets check the missing values\n",
    "df.isnull().sum()\n",
    "# there are no missing values"
   ]
  },
  {
   "cell_type": "code",
   "execution_count": 14,
   "metadata": {
    "execution": {
     "iopub.execute_input": "2022-07-10T10:42:57.3982Z",
     "iopub.status.busy": "2022-07-10T10:42:57.397913Z",
     "iopub.status.idle": "2022-07-10T10:42:57.411824Z",
     "shell.execute_reply": "2022-07-10T10:42:57.410681Z",
     "shell.execute_reply.started": "2022-07-10T10:42:57.398174Z"
    }
   },
   "outputs": [
    {
     "data": {
      "text/plain": [
       "403"
      ]
     },
     "execution_count": 14,
     "metadata": {},
     "output_type": "execute_result"
    }
   ],
   "source": [
    "# now lets check for duplicated values\n",
    "df.duplicated().sum()\n"
   ]
  },
  {
   "cell_type": "markdown",
   "metadata": {},
   "source": [
    "*There are 403 duplicate values so we simply have to remove those values* "
   ]
  },
  {
   "cell_type": "code",
   "execution_count": 15,
   "metadata": {
    "execution": {
     "iopub.execute_input": "2022-07-10T10:42:57.41389Z",
     "iopub.status.busy": "2022-07-10T10:42:57.413525Z",
     "iopub.status.idle": "2022-07-10T10:42:57.422144Z",
     "shell.execute_reply": "2022-07-10T10:42:57.421188Z",
     "shell.execute_reply.started": "2022-07-10T10:42:57.413863Z"
    }
   },
   "outputs": [],
   "source": [
    "#remove the duplicates\n",
    "df= df.drop_duplicates()"
   ]
  },
  {
   "cell_type": "code",
   "execution_count": 16,
   "metadata": {
    "execution": {
     "iopub.execute_input": "2022-07-10T10:42:57.424053Z",
     "iopub.status.busy": "2022-07-10T10:42:57.423487Z",
     "iopub.status.idle": "2022-07-10T10:42:57.436101Z",
     "shell.execute_reply": "2022-07-10T10:42:57.435057Z",
     "shell.execute_reply.started": "2022-07-10T10:42:57.424019Z"
    }
   },
   "outputs": [
    {
     "data": {
      "text/plain": [
       "0"
      ]
     },
     "execution_count": 16,
     "metadata": {},
     "output_type": "execute_result"
    }
   ],
   "source": [
    "df.duplicated().sum()"
   ]
  },
  {
   "cell_type": "markdown",
   "metadata": {},
   "source": [
    "# 2. Exploratory Data Analysis"
   ]
  },
  {
   "cell_type": "markdown",
   "metadata": {},
   "source": [
    "### *Lets visualize this classification problem to get a better understanding of the data*"
   ]
  },
  {
   "cell_type": "code",
   "execution_count": 17,
   "metadata": {
    "execution": {
     "iopub.execute_input": "2022-07-10T10:42:57.438853Z",
     "iopub.status.busy": "2022-07-10T10:42:57.437928Z",
     "iopub.status.idle": "2022-07-10T10:42:57.444242Z",
     "shell.execute_reply": "2022-07-10T10:42:57.443004Z",
     "shell.execute_reply.started": "2022-07-10T10:42:57.438807Z"
    }
   },
   "outputs": [],
   "source": [
    "import seaborn as sns\n",
    "import matplotlib.pyplot as plt\n"
   ]
  },
  {
   "cell_type": "code",
   "execution_count": 18,
   "metadata": {
    "execution": {
     "iopub.execute_input": "2022-07-10T10:42:57.446675Z",
     "iopub.status.busy": "2022-07-10T10:42:57.445757Z",
     "iopub.status.idle": "2022-07-10T10:42:57.457267Z",
     "shell.execute_reply": "2022-07-10T10:42:57.456275Z",
     "shell.execute_reply.started": "2022-07-10T10:42:57.446633Z"
    }
   },
   "outputs": [
    {
     "data": {
      "text/plain": [
       "0    4516\n",
       "1     653\n",
       "Name: message_type, dtype: int64"
      ]
     },
     "execution_count": 18,
     "metadata": {},
     "output_type": "execute_result"
    }
   ],
   "source": [
    "df['message_type'].value_counts()"
   ]
  },
  {
   "cell_type": "code",
   "execution_count": 19,
   "metadata": {
    "execution": {
     "iopub.execute_input": "2022-07-10T10:42:57.463442Z",
     "iopub.status.busy": "2022-07-10T10:42:57.462269Z",
     "iopub.status.idle": "2022-07-10T10:42:57.553369Z",
     "shell.execute_reply": "2022-07-10T10:42:57.552122Z",
     "shell.execute_reply.started": "2022-07-10T10:42:57.463392Z"
    }
   },
   "outputs": [
    {
     "data": {
      "image/png": "[encoded data removed]",
      "text/plain": [
       "<Figure size 432x288 with 1 Axes>"
      ]
     },
     "metadata": {},
     "output_type": "display_data"
    }
   ],
   "source": [
    "plt.pie(df['message_type'].value_counts(),labels=[' not spam','spam'],autopct='%0.2f')\n",
    "plt.show()"
   ]
  },
  {
   "cell_type": "markdown",
   "metadata": {},
   "source": [
    "### there is imbalance in data"
   ]
  },
  {
   "cell_type": "code",
   "execution_count": 20,
   "metadata": {
    "execution": {
     "iopub.execute_input": "2022-07-10T10:42:57.555973Z",
     "iopub.status.busy": "2022-07-10T10:42:57.555101Z",
     "iopub.status.idle": "2022-07-10T10:42:57.561244Z",
     "shell.execute_reply": "2022-07-10T10:42:57.560127Z",
     "shell.execute_reply.started": "2022-07-10T10:42:57.555926Z"
    }
   },
   "outputs": [],
   "source": [
    "# no. of alphabets in the data\n",
    "# no. of sentences in the data\n",
    "# no. of words in the data"
   ]
  },
  {
   "cell_type": "markdown",
   "metadata": {},
   "source": [
    "### *Now lets make 3 new columns in the data depicting the no. of characters,words and sentences*"
   ]
  },
  {
   "cell_type": "code",
   "execution_count": 21,
   "metadata": {
    "execution": {
     "iopub.execute_input": "2022-07-10T10:42:57.563517Z",
     "iopub.status.busy": "2022-07-10T10:42:57.562772Z",
     "iopub.status.idle": "2022-07-10T10:42:57.572444Z",
     "shell.execute_reply": "2022-07-10T10:42:57.571362Z",
     "shell.execute_reply.started": "2022-07-10T10:42:57.563474Z"
    }
   },
   "outputs": [],
   "source": [
    "#natural language tool kit\n",
    "import nltk"
   ]
  },
  {
   "cell_type": "code",
   "execution_count": 22,
   "metadata": {
    "execution": {
     "iopub.execute_input": "2022-07-10T10:42:57.574917Z",
     "iopub.status.busy": "2022-07-10T10:42:57.574196Z",
     "iopub.status.idle": "2022-07-10T10:42:57.603755Z",
     "shell.execute_reply": "2022-07-10T10:42:57.602485Z",
     "shell.execute_reply.started": "2022-07-10T10:42:57.574876Z"
    }
   },
   "outputs": [
    {
     "data": {
      "text/html": [
       "<div>\n",
       "<style scoped>\n",
       "    .dataframe tbody tr th:only-of-type {\n",
       "        vertical-align: middle;\n",
       "    }\n",
       "\n",
       "    .dataframe tbody tr th {\n",
       "        vertical-align: top;\n",
       "    }\n",
       "\n",
       "    .dataframe thead th {\n",
       "        text-align: right;\n",
       "    }\n",
       "</style>\n",
       "<table border=\"1\" class=\"dataframe\">\n",
       "  <thead>\n",
       "    <tr style=\"text-align: right;\">\n",
       "      <th></th>\n",
       "      <th>message_type</th>\n",
       "      <th>message</th>\n",
       "      <th>num_characters</th>\n",
       "    </tr>\n",
       "  </thead>\n",
       "  <tbody>\n",
       "    <tr>\n",
       "      <th>0</th>\n",
       "      <td>0</td>\n",
       "      <td>Go until jurong point, crazy.. Available only ...</td>\n",
       "      <td>111</td>\n",
       "    </tr>\n",
       "    <tr>\n",
       "      <th>1</th>\n",
       "      <td>0</td>\n",
       "      <td>Ok lar... Joking wif u oni...</td>\n",
       "      <td>29</td>\n",
       "    </tr>\n",
       "    <tr>\n",
       "      <th>2</th>\n",
       "      <td>1</td>\n",
       "      <td>Free entry in 2 a wkly comp to win FA Cup fina...</td>\n",
       "      <td>155</td>\n",
       "    </tr>\n",
       "    <tr>\n",
       "      <th>3</th>\n",
       "      <td>0</td>\n",
       "      <td>U dun say so early hor... U c already then say...</td>\n",
       "      <td>49</td>\n",
       "    </tr>\n",
       "    <tr>\n",
       "      <th>4</th>\n",
       "      <td>0</td>\n",
       "      <td>Nah I don't think he goes to usf, he lives aro...</td>\n",
       "      <td>61</td>\n",
       "    </tr>\n",
       "  </tbody>\n",
       "</table>\n",
       "</div>"
      ],
      "text/plain": [
       "   message_type                                            message  \\\n",
       "0             0  Go until jurong point, crazy.. Available only ...   \n",
       "1             0                      Ok lar... Joking wif u oni...   \n",
       "2             1  Free entry in 2 a wkly comp to win FA Cup fina...   \n",
       "3             0  U dun say so early hor... U c already then say...   \n",
       "4             0  Nah I don't think he goes to usf, he lives aro...   \n",
       "\n",
       "   num_characters  \n",
       "0             111  \n",
       "1              29  \n",
       "2             155  \n",
       "3              49  \n",
       "4              61  "
      ]
     },
     "execution_count": 22,
     "metadata": {},
     "output_type": "execute_result"
    }
   ],
   "source": [
    "#find the number of alpha numeric characters in the messages column\n",
    "df['num_characters']=df['message'].apply(len)\n",
    "df.head()"
   ]
  },
  {
   "cell_type": "code",
   "execution_count": 23,
   "metadata": {
    "execution": {
     "iopub.execute_input": "2022-07-10T10:42:57.607232Z",
     "iopub.status.busy": "2022-07-10T10:42:57.605771Z",
     "iopub.status.idle": "2022-07-10T10:42:59.209235Z",
     "shell.execute_reply": "2022-07-10T10:42:59.208135Z",
     "shell.execute_reply.started": "2022-07-10T10:42:57.607179Z"
    }
   },
   "outputs": [
    {
     "data": {
      "text/plain": [
       "0       [Go, until, jurong, point, ,, crazy, .., Avail...\n",
       "1                [Ok, lar, ..., Joking, wif, u, oni, ...]\n",
       "2       [Free, entry, in, 2, a, wkly, comp, to, win, F...\n",
       "3       [U, dun, say, so, early, hor, ..., U, c, alrea...\n",
       "4       [Nah, I, do, n't, think, he, goes, to, usf, ,,...\n",
       "                              ...                        \n",
       "5567    [This, is, the, 2nd, time, we, have, tried, 2,...\n",
       "5568     [Will, Ì_, b, going, to, esplanade, fr, home, ?]\n",
       "5569    [Pity, ,, *, was, in, mood, for, that, ., So, ...\n",
       "5570    [The, guy, did, some, bitching, but, I, acted,...\n",
       "5571                  [Rofl, ., Its, true, to, its, name]\n",
       "Name: message, Length: 5169, dtype: object"
      ]
     },
     "execution_count": 23,
     "metadata": {},
     "output_type": "execute_result"
    }
   ],
   "source": [
    "#fetch number of words using NLTK\n",
    "from nltk.tokenize import word_tokenize\n",
    "#word tokenization\n",
    "df['message'].apply(lambda x: nltk.word_tokenize(x))"
   ]
  },
  {
   "cell_type": "code",
   "execution_count": 24,
   "metadata": {
    "execution": {
     "iopub.execute_input": "2022-07-10T10:42:59.211742Z",
     "iopub.status.busy": "2022-07-10T10:42:59.211063Z",
     "iopub.status.idle": "2022-07-10T10:43:00.809135Z",
     "shell.execute_reply": "2022-07-10T10:43:00.807865Z",
     "shell.execute_reply.started": "2022-07-10T10:42:59.211694Z"
    }
   },
   "outputs": [
    {
     "data": {
      "text/html": [
       "<div>\n",
       "<style scoped>\n",
       "    .dataframe tbody tr th:only-of-type {\n",
       "        vertical-align: middle;\n",
       "    }\n",
       "\n",
       "    .dataframe tbody tr th {\n",
       "        vertical-align: top;\n",
       "    }\n",
       "\n",
       "    .dataframe thead th {\n",
       "        text-align: right;\n",
       "    }\n",
       "</style>\n",
       "<table border=\"1\" class=\"dataframe\">\n",
       "  <thead>\n",
       "    <tr style=\"text-align: right;\">\n",
       "      <th></th>\n",
       "      <th>message_type</th>\n",
       "      <th>message</th>\n",
       "      <th>num_characters</th>\n",
       "      <th>num_words</th>\n",
       "    </tr>\n",
       "  </thead>\n",
       "  <tbody>\n",
       "    <tr>\n",
       "      <th>4274</th>\n",
       "      <td>0</td>\n",
       "      <td>Haiyoh... Maybe your hamster was jealous of mi...</td>\n",
       "      <td>51</td>\n",
       "      <td>9</td>\n",
       "    </tr>\n",
       "    <tr>\n",
       "      <th>4732</th>\n",
       "      <td>0</td>\n",
       "      <td>Good Morning my Dear Shijutta........... Have ...</td>\n",
       "      <td>75</td>\n",
       "      <td>15</td>\n",
       "    </tr>\n",
       "    <tr>\n",
       "      <th>1205</th>\n",
       "      <td>0</td>\n",
       "      <td>The whole car appreciated the last two! Dad an...</td>\n",
       "      <td>130</td>\n",
       "      <td>27</td>\n",
       "    </tr>\n",
       "    <tr>\n",
       "      <th>1683</th>\n",
       "      <td>0</td>\n",
       "      <td>Already am squatting is the new way of walking</td>\n",
       "      <td>46</td>\n",
       "      <td>9</td>\n",
       "    </tr>\n",
       "    <tr>\n",
       "      <th>721</th>\n",
       "      <td>0</td>\n",
       "      <td>S'fine. Anytime. All the best with it.</td>\n",
       "      <td>38</td>\n",
       "      <td>10</td>\n",
       "    </tr>\n",
       "  </tbody>\n",
       "</table>\n",
       "</div>"
      ],
      "text/plain": [
       "      message_type                                            message  \\\n",
       "4274             0  Haiyoh... Maybe your hamster was jealous of mi...   \n",
       "4732             0  Good Morning my Dear Shijutta........... Have ...   \n",
       "1205             0  The whole car appreciated the last two! Dad an...   \n",
       "1683             0     Already am squatting is the new way of walking   \n",
       "721              0             S'fine. Anytime. All the best with it.   \n",
       "\n",
       "      num_characters  num_words  \n",
       "4274              51          9  \n",
       "4732              75         15  \n",
       "1205             130         27  \n",
       "1683              46          9  \n",
       "721               38         10  "
      ]
     },
     "execution_count": 24,
     "metadata": {},
     "output_type": "execute_result"
    }
   ],
   "source": [
    "#now find the length of each of the list to get the total number of words in each list\n",
    "df['num_words']=df['message'].apply(lambda x:len(nltk.word_tokenize(x)))\n",
    "df.sample(5)"
   ]
  },
  {
   "cell_type": "code",
   "execution_count": 25,
   "metadata": {
    "execution": {
     "iopub.execute_input": "2022-07-10T10:43:00.811078Z",
     "iopub.status.busy": "2022-07-10T10:43:00.810661Z",
     "iopub.status.idle": "2022-07-10T10:43:01.20617Z",
     "shell.execute_reply": "2022-07-10T10:43:01.205087Z",
     "shell.execute_reply.started": "2022-07-10T10:43:00.811038Z"
    }
   },
   "outputs": [
    {
     "data": {
      "text/html": [
       "<div>\n",
       "<style scoped>\n",
       "    .dataframe tbody tr th:only-of-type {\n",
       "        vertical-align: middle;\n",
       "    }\n",
       "\n",
       "    .dataframe tbody tr th {\n",
       "        vertical-align: top;\n",
       "    }\n",
       "\n",
       "    .dataframe thead th {\n",
       "        text-align: right;\n",
       "    }\n",
       "</style>\n",
       "<table border=\"1\" class=\"dataframe\">\n",
       "  <thead>\n",
       "    <tr style=\"text-align: right;\">\n",
       "      <th></th>\n",
       "      <th>message_type</th>\n",
       "      <th>message</th>\n",
       "      <th>num_characters</th>\n",
       "      <th>num_words</th>\n",
       "      <th>num_sentences</th>\n",
       "    </tr>\n",
       "  </thead>\n",
       "  <tbody>\n",
       "    <tr>\n",
       "      <th>244</th>\n",
       "      <td>0</td>\n",
       "      <td>U don't remember that old commercial?</td>\n",
       "      <td>37</td>\n",
       "      <td>8</td>\n",
       "      <td>[U don't remember that old commercial?]</td>\n",
       "    </tr>\n",
       "    <tr>\n",
       "      <th>761</th>\n",
       "      <td>0</td>\n",
       "      <td>We are at grandmas. Oh dear, u still ill? I fe...</td>\n",
       "      <td>135</td>\n",
       "      <td>34</td>\n",
       "      <td>[We are at grandmas., Oh dear, u still ill?, I...</td>\n",
       "    </tr>\n",
       "    <tr>\n",
       "      <th>3051</th>\n",
       "      <td>0</td>\n",
       "      <td>Please leave this topic..sorry for telling that..</td>\n",
       "      <td>49</td>\n",
       "      <td>10</td>\n",
       "      <td>[Please leave this topic..sorry for telling th...</td>\n",
       "    </tr>\n",
       "    <tr>\n",
       "      <th>2291</th>\n",
       "      <td>0</td>\n",
       "      <td>Remind me how to get there and I shall do so</td>\n",
       "      <td>44</td>\n",
       "      <td>11</td>\n",
       "      <td>[Remind me how to get there and I shall do so]</td>\n",
       "    </tr>\n",
       "    <tr>\n",
       "      <th>886</th>\n",
       "      <td>0</td>\n",
       "      <td>I like to talk pa but am not able to. I dont k...</td>\n",
       "      <td>52</td>\n",
       "      <td>16</td>\n",
       "      <td>[I like to talk pa but am not able to., I dont...</td>\n",
       "    </tr>\n",
       "  </tbody>\n",
       "</table>\n",
       "</div>"
      ],
      "text/plain": [
       "      message_type                                            message  \\\n",
       "244              0              U don't remember that old commercial?   \n",
       "761              0  We are at grandmas. Oh dear, u still ill? I fe...   \n",
       "3051             0  Please leave this topic..sorry for telling that..   \n",
       "2291             0       Remind me how to get there and I shall do so   \n",
       "886              0  I like to talk pa but am not able to. I dont k...   \n",
       "\n",
       "      num_characters  num_words  \\\n",
       "244               37          8   \n",
       "761              135         34   \n",
       "3051              49         10   \n",
       "2291              44         11   \n",
       "886               52         16   \n",
       "\n",
       "                                          num_sentences  \n",
       "244             [U don't remember that old commercial?]  \n",
       "761   [We are at grandmas., Oh dear, u still ill?, I...  \n",
       "3051  [Please leave this topic..sorry for telling th...  \n",
       "2291     [Remind me how to get there and I shall do so]  \n",
       "886   [I like to talk pa but am not able to., I dont...  "
      ]
     },
     "execution_count": 25,
     "metadata": {},
     "output_type": "execute_result"
    }
   ],
   "source": [
    "#finding number of sentences\n",
    "df['num_sentences']=df['message'].apply(lambda x: nltk.sent_tokenize(x))\n",
    "df.sample(5)"
   ]
  },
  {
   "cell_type": "code",
   "execution_count": 26,
   "metadata": {
    "execution": {
     "iopub.execute_input": "2022-07-10T10:43:01.208893Z",
     "iopub.status.busy": "2022-07-10T10:43:01.207724Z",
     "iopub.status.idle": "2022-07-10T10:43:01.585729Z",
     "shell.execute_reply": "2022-07-10T10:43:01.584726Z",
     "shell.execute_reply.started": "2022-07-10T10:43:01.208859Z"
    }
   },
   "outputs": [
    {
     "data": {
      "text/html": [
       "<div>\n",
       "<style scoped>\n",
       "    .dataframe tbody tr th:only-of-type {\n",
       "        vertical-align: middle;\n",
       "    }\n",
       "\n",
       "    .dataframe tbody tr th {\n",
       "        vertical-align: top;\n",
       "    }\n",
       "\n",
       "    .dataframe thead th {\n",
       "        text-align: right;\n",
       "    }\n",
       "</style>\n",
       "<table border=\"1\" class=\"dataframe\">\n",
       "  <thead>\n",
       "    <tr style=\"text-align: right;\">\n",
       "      <th></th>\n",
       "      <th>message_type</th>\n",
       "      <th>message</th>\n",
       "      <th>num_characters</th>\n",
       "      <th>num_words</th>\n",
       "      <th>num_sentences</th>\n",
       "    </tr>\n",
       "  </thead>\n",
       "  <tbody>\n",
       "    <tr>\n",
       "      <th>731</th>\n",
       "      <td>0</td>\n",
       "      <td>No he didn't. Spring is coming early yay!</td>\n",
       "      <td>41</td>\n",
       "      <td>11</td>\n",
       "      <td>2</td>\n",
       "    </tr>\n",
       "    <tr>\n",
       "      <th>3614</th>\n",
       "      <td>0</td>\n",
       "      <td>I enjoy watching and playing football and bask...</td>\n",
       "      <td>81</td>\n",
       "      <td>15</td>\n",
       "      <td>3</td>\n",
       "    </tr>\n",
       "    <tr>\n",
       "      <th>4072</th>\n",
       "      <td>0</td>\n",
       "      <td>Was the actual exam harder than NBME</td>\n",
       "      <td>36</td>\n",
       "      <td>7</td>\n",
       "      <td>1</td>\n",
       "    </tr>\n",
       "    <tr>\n",
       "      <th>4174</th>\n",
       "      <td>0</td>\n",
       "      <td>How are you doing. How's the queen. Are you go...</td>\n",
       "      <td>71</td>\n",
       "      <td>17</td>\n",
       "      <td>3</td>\n",
       "    </tr>\n",
       "    <tr>\n",
       "      <th>1228</th>\n",
       "      <td>1</td>\n",
       "      <td>FREE entry into our å£250 weekly comp just sen...</td>\n",
       "      <td>123</td>\n",
       "      <td>25</td>\n",
       "      <td>2</td>\n",
       "    </tr>\n",
       "  </tbody>\n",
       "</table>\n",
       "</div>"
      ],
      "text/plain": [
       "      message_type                                            message  \\\n",
       "731              0          No he didn't. Spring is coming early yay!   \n",
       "3614             0  I enjoy watching and playing football and bask...   \n",
       "4072             0               Was the actual exam harder than NBME   \n",
       "4174             0  How are you doing. How's the queen. Are you go...   \n",
       "1228             1  FREE entry into our å£250 weekly comp just sen...   \n",
       "\n",
       "      num_characters  num_words  num_sentences  \n",
       "731               41         11              2  \n",
       "3614              81         15              3  \n",
       "4072              36          7              1  \n",
       "4174              71         17              3  \n",
       "1228             123         25              2  "
      ]
     },
     "execution_count": 26,
     "metadata": {},
     "output_type": "execute_result"
    }
   ],
   "source": [
    "#finding no. of sentences\n",
    "df['num_sentences']=df['message'].apply(lambda x: len(nltk.sent_tokenize(x)))\n",
    "df.sample(5)"
   ]
  },
  {
   "cell_type": "code",
   "execution_count": 27,
   "metadata": {
    "execution": {
     "iopub.execute_input": "2022-07-10T10:43:01.587506Z",
     "iopub.status.busy": "2022-07-10T10:43:01.587212Z",
     "iopub.status.idle": "2022-07-10T10:43:01.608307Z",
     "shell.execute_reply": "2022-07-10T10:43:01.607633Z",
     "shell.execute_reply.started": "2022-07-10T10:43:01.58748Z"
    }
   },
   "outputs": [
    {
     "data": {
      "text/html": [
       "<div>\n",
       "<style scoped>\n",
       "    .dataframe tbody tr th:only-of-type {\n",
       "        vertical-align: middle;\n",
       "    }\n",
       "\n",
       "    .dataframe tbody tr th {\n",
       "        vertical-align: top;\n",
       "    }\n",
       "\n",
       "    .dataframe thead th {\n",
       "        text-align: right;\n",
       "    }\n",
       "</style>\n",
       "<table border=\"1\" class=\"dataframe\">\n",
       "  <thead>\n",
       "    <tr style=\"text-align: right;\">\n",
       "      <th></th>\n",
       "      <th>num_characters</th>\n",
       "      <th>num_words</th>\n",
       "      <th>num_sentences</th>\n",
       "    </tr>\n",
       "  </thead>\n",
       "  <tbody>\n",
       "    <tr>\n",
       "      <th>count</th>\n",
       "      <td>5169.000000</td>\n",
       "      <td>5169.000000</td>\n",
       "      <td>5169.000000</td>\n",
       "    </tr>\n",
       "    <tr>\n",
       "      <th>mean</th>\n",
       "      <td>78.977945</td>\n",
       "      <td>18.455407</td>\n",
       "      <td>1.961308</td>\n",
       "    </tr>\n",
       "    <tr>\n",
       "      <th>std</th>\n",
       "      <td>58.236293</td>\n",
       "      <td>13.322448</td>\n",
       "      <td>1.432583</td>\n",
       "    </tr>\n",
       "    <tr>\n",
       "      <th>min</th>\n",
       "      <td>2.000000</td>\n",
       "      <td>1.000000</td>\n",
       "      <td>1.000000</td>\n",
       "    </tr>\n",
       "    <tr>\n",
       "      <th>25%</th>\n",
       "      <td>36.000000</td>\n",
       "      <td>9.000000</td>\n",
       "      <td>1.000000</td>\n",
       "    </tr>\n",
       "    <tr>\n",
       "      <th>50%</th>\n",
       "      <td>60.000000</td>\n",
       "      <td>15.000000</td>\n",
       "      <td>1.000000</td>\n",
       "    </tr>\n",
       "    <tr>\n",
       "      <th>75%</th>\n",
       "      <td>117.000000</td>\n",
       "      <td>26.000000</td>\n",
       "      <td>2.000000</td>\n",
       "    </tr>\n",
       "    <tr>\n",
       "      <th>max</th>\n",
       "      <td>910.000000</td>\n",
       "      <td>220.000000</td>\n",
       "      <td>38.000000</td>\n",
       "    </tr>\n",
       "  </tbody>\n",
       "</table>\n",
       "</div>"
      ],
      "text/plain": [
       "       num_characters    num_words  num_sentences\n",
       "count     5169.000000  5169.000000    5169.000000\n",
       "mean        78.977945    18.455407       1.961308\n",
       "std         58.236293    13.322448       1.432583\n",
       "min          2.000000     1.000000       1.000000\n",
       "25%         36.000000     9.000000       1.000000\n",
       "50%         60.000000    15.000000       1.000000\n",
       "75%        117.000000    26.000000       2.000000\n",
       "max        910.000000   220.000000      38.000000"
      ]
     },
     "execution_count": 27,
     "metadata": {},
     "output_type": "execute_result"
    }
   ],
   "source": [
    "#lets test the describe function on the new 3 columns\n",
    "df[['num_characters','num_words','num_sentences']].describe()"
   ]
  },
  {
   "cell_type": "markdown",
   "metadata": {},
   "source": [
    "### For 'ham' messages"
   ]
  },
  {
   "cell_type": "code",
   "execution_count": 28,
   "metadata": {
    "execution": {
     "iopub.execute_input": "2022-07-10T10:43:01.61012Z",
     "iopub.status.busy": "2022-07-10T10:43:01.609594Z",
     "iopub.status.idle": "2022-07-10T10:43:01.632054Z",
     "shell.execute_reply": "2022-07-10T10:43:01.630972Z",
     "shell.execute_reply.started": "2022-07-10T10:43:01.610089Z"
    }
   },
   "outputs": [
    {
     "data": {
      "text/html": [
       "<div>\n",
       "<style scoped>\n",
       "    .dataframe tbody tr th:only-of-type {\n",
       "        vertical-align: middle;\n",
       "    }\n",
       "\n",
       "    .dataframe tbody tr th {\n",
       "        vertical-align: top;\n",
       "    }\n",
       "\n",
       "    .dataframe thead th {\n",
       "        text-align: right;\n",
       "    }\n",
       "</style>\n",
       "<table border=\"1\" class=\"dataframe\">\n",
       "  <thead>\n",
       "    <tr style=\"text-align: right;\">\n",
       "      <th></th>\n",
       "      <th>num_characters</th>\n",
       "      <th>num_words</th>\n",
       "      <th>num_sentences</th>\n",
       "    </tr>\n",
       "  </thead>\n",
       "  <tbody>\n",
       "    <tr>\n",
       "      <th>count</th>\n",
       "      <td>4516.000000</td>\n",
       "      <td>4516.000000</td>\n",
       "      <td>4516.000000</td>\n",
       "    </tr>\n",
       "    <tr>\n",
       "      <th>mean</th>\n",
       "      <td>70.459256</td>\n",
       "      <td>17.123339</td>\n",
       "      <td>1.815545</td>\n",
       "    </tr>\n",
       "    <tr>\n",
       "      <th>std</th>\n",
       "      <td>56.358207</td>\n",
       "      <td>13.491315</td>\n",
       "      <td>1.364098</td>\n",
       "    </tr>\n",
       "    <tr>\n",
       "      <th>min</th>\n",
       "      <td>2.000000</td>\n",
       "      <td>1.000000</td>\n",
       "      <td>1.000000</td>\n",
       "    </tr>\n",
       "    <tr>\n",
       "      <th>25%</th>\n",
       "      <td>34.000000</td>\n",
       "      <td>8.000000</td>\n",
       "      <td>1.000000</td>\n",
       "    </tr>\n",
       "    <tr>\n",
       "      <th>50%</th>\n",
       "      <td>52.000000</td>\n",
       "      <td>13.000000</td>\n",
       "      <td>1.000000</td>\n",
       "    </tr>\n",
       "    <tr>\n",
       "      <th>75%</th>\n",
       "      <td>90.000000</td>\n",
       "      <td>22.000000</td>\n",
       "      <td>2.000000</td>\n",
       "    </tr>\n",
       "    <tr>\n",
       "      <th>max</th>\n",
       "      <td>910.000000</td>\n",
       "      <td>220.000000</td>\n",
       "      <td>38.000000</td>\n",
       "    </tr>\n",
       "  </tbody>\n",
       "</table>\n",
       "</div>"
      ],
      "text/plain": [
       "       num_characters    num_words  num_sentences\n",
       "count     4516.000000  4516.000000    4516.000000\n",
       "mean        70.459256    17.123339       1.815545\n",
       "std         56.358207    13.491315       1.364098\n",
       "min          2.000000     1.000000       1.000000\n",
       "25%         34.000000     8.000000       1.000000\n",
       "50%         52.000000    13.000000       1.000000\n",
       "75%         90.000000    22.000000       2.000000\n",
       "max        910.000000   220.000000      38.000000"
      ]
     },
     "execution_count": 28,
     "metadata": {},
     "output_type": "execute_result"
    }
   ],
   "source": [
    "# lets check describe() for both ham and spam individually\n",
    "df[df['message_type']==0][['num_characters','num_words','num_sentences']].describe()"
   ]
  },
  {
   "cell_type": "markdown",
   "metadata": {},
   "source": [
    "### For 'spam' messages"
   ]
  },
  {
   "cell_type": "code",
   "execution_count": 29,
   "metadata": {
    "execution": {
     "iopub.execute_input": "2022-07-10T10:43:01.633973Z",
     "iopub.status.busy": "2022-07-10T10:43:01.633623Z",
     "iopub.status.idle": "2022-07-10T10:43:01.656176Z",
     "shell.execute_reply": "2022-07-10T10:43:01.655124Z",
     "shell.execute_reply.started": "2022-07-10T10:43:01.633944Z"
    }
   },
   "outputs": [
    {
     "data": {
      "text/html": [
       "<div>\n",
       "<style scoped>\n",
       "    .dataframe tbody tr th:only-of-type {\n",
       "        vertical-align: middle;\n",
       "    }\n",
       "\n",
       "    .dataframe tbody tr th {\n",
       "        vertical-align: top;\n",
       "    }\n",
       "\n",
       "    .dataframe thead th {\n",
       "        text-align: right;\n",
       "    }\n",
       "</style>\n",
       "<table border=\"1\" class=\"dataframe\">\n",
       "  <thead>\n",
       "    <tr style=\"text-align: right;\">\n",
       "      <th></th>\n",
       "      <th>num_characters</th>\n",
       "      <th>num_words</th>\n",
       "      <th>num_sentences</th>\n",
       "    </tr>\n",
       "  </thead>\n",
       "  <tbody>\n",
       "    <tr>\n",
       "      <th>count</th>\n",
       "      <td>653.000000</td>\n",
       "      <td>653.000000</td>\n",
       "      <td>653.000000</td>\n",
       "    </tr>\n",
       "    <tr>\n",
       "      <th>mean</th>\n",
       "      <td>137.891271</td>\n",
       "      <td>27.667688</td>\n",
       "      <td>2.969372</td>\n",
       "    </tr>\n",
       "    <tr>\n",
       "      <th>std</th>\n",
       "      <td>30.137753</td>\n",
       "      <td>7.008418</td>\n",
       "      <td>1.488910</td>\n",
       "    </tr>\n",
       "    <tr>\n",
       "      <th>min</th>\n",
       "      <td>13.000000</td>\n",
       "      <td>2.000000</td>\n",
       "      <td>1.000000</td>\n",
       "    </tr>\n",
       "    <tr>\n",
       "      <th>25%</th>\n",
       "      <td>132.000000</td>\n",
       "      <td>25.000000</td>\n",
       "      <td>2.000000</td>\n",
       "    </tr>\n",
       "    <tr>\n",
       "      <th>50%</th>\n",
       "      <td>149.000000</td>\n",
       "      <td>29.000000</td>\n",
       "      <td>3.000000</td>\n",
       "    </tr>\n",
       "    <tr>\n",
       "      <th>75%</th>\n",
       "      <td>157.000000</td>\n",
       "      <td>32.000000</td>\n",
       "      <td>4.000000</td>\n",
       "    </tr>\n",
       "    <tr>\n",
       "      <th>max</th>\n",
       "      <td>224.000000</td>\n",
       "      <td>46.000000</td>\n",
       "      <td>9.000000</td>\n",
       "    </tr>\n",
       "  </tbody>\n",
       "</table>\n",
       "</div>"
      ],
      "text/plain": [
       "       num_characters   num_words  num_sentences\n",
       "count      653.000000  653.000000     653.000000\n",
       "mean       137.891271   27.667688       2.969372\n",
       "std         30.137753    7.008418       1.488910\n",
       "min         13.000000    2.000000       1.000000\n",
       "25%        132.000000   25.000000       2.000000\n",
       "50%        149.000000   29.000000       3.000000\n",
       "75%        157.000000   32.000000       4.000000\n",
       "max        224.000000   46.000000       9.000000"
      ]
     },
     "execution_count": 29,
     "metadata": {},
     "output_type": "execute_result"
    }
   ],
   "source": [
    "df[df['message_type']==1][['num_characters','num_words','num_sentences']].describe()"
   ]
  },
  {
   "cell_type": "markdown",
   "metadata": {},
   "source": [
    "\n",
    "#### we can clearly see the spam messages are quite longer than the ham messages"
   ]
  },
  {
   "cell_type": "code",
   "execution_count": 30,
   "metadata": {
    "execution": {
     "iopub.execute_input": "2022-07-10T10:43:01.658455Z",
     "iopub.status.busy": "2022-07-10T10:43:01.657646Z",
     "iopub.status.idle": "2022-07-10T10:43:02.156735Z",
     "shell.execute_reply": "2022-07-10T10:43:02.155709Z",
     "shell.execute_reply.started": "2022-07-10T10:43:01.658423Z"
    }
   },
   "outputs": [
    {
     "data": {
      "text/plain": [
       "<AxesSubplot:xlabel='num_characters', ylabel='Count'>"
      ]
     },
     "execution_count": 30,
     "metadata": {},
     "output_type": "execute_result"
    },
    {
     "data": {
      "image/png": "[encoded data removed]",
      "text/plain": [
       "<Figure size 864x432 with 1 Axes>"
      ]
     },
     "metadata": {
      "needs_background": "light"
     },
     "output_type": "display_data"
    }
   ],
   "source": [
    "#for characters\n",
    "plt.figure(figsize=(12,6))\n",
    "sns.histplot(df[df['message_type']==0]['num_characters'],color='green')\n",
    "sns.histplot(df[df['message_type']==1]['num_characters'],color = 'red')\n"
   ]
  },
  {
   "cell_type": "code",
   "execution_count": 31,
   "metadata": {
    "execution": {
     "iopub.execute_input": "2022-07-10T10:43:02.159418Z",
     "iopub.status.busy": "2022-07-10T10:43:02.158384Z",
     "iopub.status.idle": "2022-07-10T10:43:02.624056Z",
     "shell.execute_reply": "2022-07-10T10:43:02.623047Z",
     "shell.execute_reply.started": "2022-07-10T10:43:02.15935Z"
    }
   },
   "outputs": [
    {
     "data": {
      "text/plain": [
       "<AxesSubplot:xlabel='num_words', ylabel='Count'>"
      ]
     },
     "execution_count": 31,
     "metadata": {},
     "output_type": "execute_result"
    },
    {
     "data": {
      "image/png": "[encoded data removed]",
      "text/plain": [
       "<Figure size 864x432 with 1 Axes>"
      ]
     },
     "metadata": {
      "needs_background": "light"
     },
     "output_type": "display_data"
    }
   ],
   "source": [
    "#for words\n",
    "plt.figure(figsize=(12,6))\n",
    "sns.histplot(df[df['message_type']==0]['num_words'],color='green')\n",
    "sns.histplot(df[df['message_type']==1]['num_words'],color='red')"
   ]
  },
  {
   "cell_type": "code",
   "execution_count": 32,
   "metadata": {
    "execution": {
     "iopub.execute_input": "2022-07-10T10:43:02.625697Z",
     "iopub.status.busy": "2022-07-10T10:43:02.625293Z",
     "iopub.status.idle": "2022-07-10T10:43:06.614238Z",
     "shell.execute_reply": "2022-07-10T10:43:06.613431Z",
     "shell.execute_reply.started": "2022-07-10T10:43:02.625669Z"
    }
   },
   "outputs": [
    {
     "data": {
      "text/plain": [
       "<seaborn.axisgrid.PairGrid at 0x7f371ed577c0>"
      ]
     },
     "execution_count": 32,
     "metadata": {},
     "output_type": "execute_result"
    },
    {
     "data": {
      "image/png": "[encoded data removed]",
      "text/plain": [
       "<Figure size 620x540 with 12 Axes>"
      ]
     },
     "metadata": {
      "needs_background": "light"
     },
     "output_type": "display_data"
    }
   ],
   "source": [
    "#plot pairplots for ham and spam\n",
    "sns.pairplot(df,hue='message_type')"
   ]
  },
  {
   "cell_type": "code",
   "execution_count": 33,
   "metadata": {
    "execution": {
     "iopub.execute_input": "2022-07-10T10:43:06.616295Z",
     "iopub.status.busy": "2022-07-10T10:43:06.615428Z",
     "iopub.status.idle": "2022-07-10T10:43:06.628604Z",
     "shell.execute_reply": "2022-07-10T10:43:06.627579Z",
     "shell.execute_reply.started": "2022-07-10T10:43:06.616248Z"
    }
   },
   "outputs": [
    {
     "data": {
      "text/html": [
       "<div>\n",
       "<style scoped>\n",
       "    .dataframe tbody tr th:only-of-type {\n",
       "        vertical-align: middle;\n",
       "    }\n",
       "\n",
       "    .dataframe tbody tr th {\n",
       "        vertical-align: top;\n",
       "    }\n",
       "\n",
       "    .dataframe thead th {\n",
       "        text-align: right;\n",
       "    }\n",
       "</style>\n",
       "<table border=\"1\" class=\"dataframe\">\n",
       "  <thead>\n",
       "    <tr style=\"text-align: right;\">\n",
       "      <th></th>\n",
       "      <th>message_type</th>\n",
       "      <th>num_characters</th>\n",
       "      <th>num_words</th>\n",
       "      <th>num_sentences</th>\n",
       "    </tr>\n",
       "  </thead>\n",
       "  <tbody>\n",
       "    <tr>\n",
       "      <th>message_type</th>\n",
       "      <td>1.000000</td>\n",
       "      <td>0.384717</td>\n",
       "      <td>0.262969</td>\n",
       "      <td>0.267602</td>\n",
       "    </tr>\n",
       "    <tr>\n",
       "      <th>num_characters</th>\n",
       "      <td>0.384717</td>\n",
       "      <td>1.000000</td>\n",
       "      <td>0.965784</td>\n",
       "      <td>0.626118</td>\n",
       "    </tr>\n",
       "    <tr>\n",
       "      <th>num_words</th>\n",
       "      <td>0.262969</td>\n",
       "      <td>0.965784</td>\n",
       "      <td>1.000000</td>\n",
       "      <td>0.680882</td>\n",
       "    </tr>\n",
       "    <tr>\n",
       "      <th>num_sentences</th>\n",
       "      <td>0.267602</td>\n",
       "      <td>0.626118</td>\n",
       "      <td>0.680882</td>\n",
       "      <td>1.000000</td>\n",
       "    </tr>\n",
       "  </tbody>\n",
       "</table>\n",
       "</div>"
      ],
      "text/plain": [
       "                message_type  num_characters  num_words  num_sentences\n",
       "message_type        1.000000        0.384717   0.262969       0.267602\n",
       "num_characters      0.384717        1.000000   0.965784       0.626118\n",
       "num_words           0.262969        0.965784   1.000000       0.680882\n",
       "num_sentences       0.267602        0.626118   0.680882       1.000000"
      ]
     },
     "execution_count": 33,
     "metadata": {},
     "output_type": "execute_result"
    }
   ],
   "source": [
    "#find correlation\n",
    "df.corr()"
   ]
  },
  {
   "cell_type": "code",
   "execution_count": 34,
   "metadata": {
    "execution": {
     "iopub.execute_input": "2022-07-10T10:43:06.630695Z",
     "iopub.status.busy": "2022-07-10T10:43:06.63009Z",
     "iopub.status.idle": "2022-07-10T10:43:06.923501Z",
     "shell.execute_reply": "2022-07-10T10:43:06.92235Z",
     "shell.execute_reply.started": "2022-07-10T10:43:06.630654Z"
    }
   },
   "outputs": [
    {
     "data": {
      "text/plain": [
       "<AxesSubplot:>"
      ]
     },
     "execution_count": 34,
     "metadata": {},
     "output_type": "execute_result"
    },
    {
     "data": {
      "image/png": "[encoded data removed]",
      "text/plain": [
       "<Figure size 432x288 with 2 Axes>"
      ]
     },
     "metadata": {
      "needs_background": "light"
     },
     "output_type": "display_data"
    }
   ],
   "source": [
    "#plotting a heatmap for the correlation\n",
    "sns.heatmap(df.corr(),annot=True)"
   ]
  },
  {
   "cell_type": "markdown",
   "metadata": {},
   "source": [
    "*As we see multicollinearity here, we cannot use all three columns instead we shall use only one and that should be mun_characters has it has highest correlation with message_type*"
   ]
  },
  {
   "cell_type": "markdown",
   "metadata": {},
   "source": [
    "# 3. Data Preprocessing"
   ]
  },
  {
   "cell_type": "markdown",
   "metadata": {},
   "source": [
    "### 3.1 LowerCase\n",
    "### 3.2 Tokenisation\n",
    "### 3.3 Removing special characters\n",
    "### 3.4 Removing stop words and punctuation\n",
    "### 3.5 Stemming --lemmetization"
   ]
  },
  {
   "cell_type": "code",
   "execution_count": 40,
   "metadata": {},
   "outputs": [
    {
     "name": "stderr",
     "output_type": "stream",
     "text": [
      "[nltk_data] Downloading package stopwords to /home/user/nltk_data...\n",
      "[nltk_data]   Package stopwords is already up-to-date!\n"
     ]
    }
   ],
   "source": [
    "nltk.download('stopwords')\n",
    "stopwords = nltk.corpus.stopwords.words(\"english\")   \n",
    "tokenizer = nltk.word_tokenize   \n"
   ]
  },
  {
   "cell_type": "code",
   "execution_count": 45,
   "metadata": {
    "execution": {
     "iopub.execute_input": "2022-07-10T10:43:06.926139Z",
     "iopub.status.busy": "2022-07-10T10:43:06.925036Z",
     "iopub.status.idle": "2022-07-10T10:43:06.936159Z",
     "shell.execute_reply": "2022-07-10T10:43:06.935241Z",
     "shell.execute_reply.started": "2022-07-10T10:43:06.926087Z"
    }
   },
   "outputs": [],
   "source": [
    "def text_transform(message):\n",
    "    message=message.lower() #change to lowercase\n",
    "    message=nltk.word_tokenize(message)#tokenization  and after that text is converted to a list\n",
    "    #so we run a loop in the message text\n",
    "    y=[] #creating empty list to append\n",
    "    for i in message:\n",
    "        if i.isalnum():\n",
    "            y.append(i)\n",
    "    #now lets assign the y list back to the message\n",
    "    #message = y   !!!!list can never be copied this way it is immutable data type so we have to do it by CLONING\n",
    "    message=y[:]\n",
    "    y.clear() #now y is cleared\n",
    "    \n",
    "    #for checking punctuations and stopwords\n",
    "    for i in message:\n",
    "        if i not in stopwords.words('english') and i not in string.punctuation:\n",
    "            y.append(i)\n",
    "    message=y[:]\n",
    "    y.clear()\n",
    "    \n",
    "    ##now stemming function\n",
    "    for i in message:\n",
    "        nltk.download('stopwords')\n",
    "        ps=PorterStemmer()\n",
    "        y.append(ps.stem(i))\n",
    "    \n",
    "    #return y  --> returns as list\n",
    "    return \" \".join(y)#returns in the form of string"
   ]
  },
  {
   "cell_type": "code",
   "execution_count": 46,
   "metadata": {
    "execution": {
     "iopub.execute_input": "2022-07-10T10:43:06.937836Z",
     "iopub.status.busy": "2022-07-10T10:43:06.937508Z",
     "iopub.status.idle": "2022-07-10T10:43:06.953828Z",
     "shell.execute_reply": "2022-07-10T10:43:06.953086Z",
     "shell.execute_reply.started": "2022-07-10T10:43:06.937798Z"
    }
   },
   "outputs": [
    {
     "ename": "AttributeError",
     "evalue": "'list' object has no attribute 'words'",
     "output_type": "error",
     "traceback": [
      "\u001b[0;31m---------------------------------------------------------------------------\u001b[0m",
      "\u001b[0;31mAttributeError\u001b[0m                            Traceback (most recent call last)",
      "\u001b[0;32m/tmp/ipykernel_73268/3348813084.py\u001b[0m in \u001b[0;36m<module>\u001b[0;34m\u001b[0m\n\u001b[0;32m----> 1\u001b[0;31m \u001b[0mtext_transform\u001b[0m\u001b[0;34m(\u001b[0m\u001b[0;34m\"THis is a SMS spam CLassifier playing,wasn't $3000\"\u001b[0m\u001b[0;34m)\u001b[0m \u001b[0;31m##see here the special character $ is ignored , no stopwords and no punctuation\u001b[0m\u001b[0;34m\u001b[0m\u001b[0;34m\u001b[0m\u001b[0m\n\u001b[0m",
      "\u001b[0;32m/tmp/ipykernel_73268/4137292549.py\u001b[0m in \u001b[0;36mtext_transform\u001b[0;34m(message)\u001b[0m\n\u001b[1;32m     14\u001b[0m     \u001b[0;31m#for checking punctuations and stopwords\u001b[0m\u001b[0;34m\u001b[0m\u001b[0;34m\u001b[0m\u001b[0m\n\u001b[1;32m     15\u001b[0m     \u001b[0;32mfor\u001b[0m \u001b[0mi\u001b[0m \u001b[0;32min\u001b[0m \u001b[0mmessage\u001b[0m\u001b[0;34m:\u001b[0m\u001b[0;34m\u001b[0m\u001b[0;34m\u001b[0m\u001b[0m\n\u001b[0;32m---> 16\u001b[0;31m         \u001b[0;32mif\u001b[0m \u001b[0mi\u001b[0m \u001b[0;32mnot\u001b[0m \u001b[0;32min\u001b[0m \u001b[0mstopwords\u001b[0m\u001b[0;34m.\u001b[0m\u001b[0mwords\u001b[0m\u001b[0;34m(\u001b[0m\u001b[0;34m'english'\u001b[0m\u001b[0;34m)\u001b[0m \u001b[0;32mand\u001b[0m \u001b[0mi\u001b[0m \u001b[0;32mnot\u001b[0m \u001b[0;32min\u001b[0m \u001b[0mstring\u001b[0m\u001b[0;34m.\u001b[0m\u001b[0mpunctuation\u001b[0m\u001b[0;34m:\u001b[0m\u001b[0;34m\u001b[0m\u001b[0;34m\u001b[0m\u001b[0m\n\u001b[0m\u001b[1;32m     17\u001b[0m             \u001b[0my\u001b[0m\u001b[0;34m.\u001b[0m\u001b[0mappend\u001b[0m\u001b[0;34m(\u001b[0m\u001b[0mi\u001b[0m\u001b[0;34m)\u001b[0m\u001b[0;34m\u001b[0m\u001b[0;34m\u001b[0m\u001b[0m\n\u001b[1;32m     18\u001b[0m     \u001b[0mmessage\u001b[0m\u001b[0;34m=\u001b[0m\u001b[0my\u001b[0m\u001b[0;34m[\u001b[0m\u001b[0;34m:\u001b[0m\u001b[0;34m]\u001b[0m\u001b[0;34m\u001b[0m\u001b[0;34m\u001b[0m\u001b[0m\n",
      "\u001b[0;31mAttributeError\u001b[0m: 'list' object has no attribute 'words'"
     ]
    }
   ],
   "source": [
    "text_transform(\"THis is a SMS spam CLassifier playing,wasn't $3000\") ##see here the special character $ is ignored , no stopwords and no punctuation"
   ]
  },
  {
   "cell_type": "code",
   "execution_count": null,
   "metadata": {
    "execution": {
     "iopub.execute_input": "2022-07-10T10:43:06.955354Z",
     "iopub.status.busy": "2022-07-10T10:43:06.954732Z",
     "iopub.status.idle": "2022-07-10T10:43:06.964729Z",
     "shell.execute_reply": "2022-07-10T10:43:06.964023Z",
     "shell.execute_reply.started": "2022-07-10T10:43:06.955326Z"
    }
   },
   "outputs": [
    {
     "ename": "",
     "evalue": "",
     "output_type": "error",
     "traceback": [
      "\u001b[1;31mFailed to start the Kernel. \n",
      "\u001b[1;31mKernel project_1 (Python 3.8.13) is not usable. Check the Jupyter output tab for more information. \n",
      "View Jupyter <a href='command:jupyter.viewOutput'>log</a> for further details."
     ]
    }
   ],
   "source": [
    "## Removing stop words and punctuations\n",
    "from nltk.corpus import stopwords\n",
    "stopwords.words('english')\n",
    "len(stopwords.words('english')) #length of stopwords available\n",
    "\n"
   ]
  },
  {
   "cell_type": "markdown",
   "metadata": {},
   "source": [
    "*This shows there are 179 stopwords in the english language in this library*"
   ]
  },
  {
   "cell_type": "code",
   "execution_count": null,
   "metadata": {
    "execution": {
     "iopub.execute_input": "2022-07-10T10:43:06.966824Z",
     "iopub.status.busy": "2022-07-10T10:43:06.966103Z",
     "iopub.status.idle": "2022-07-10T10:43:06.973415Z",
     "shell.execute_reply": "2022-07-10T10:43:06.972361Z",
     "shell.execute_reply.started": "2022-07-10T10:43:06.966761Z"
    }
   },
   "outputs": [
    {
     "ename": "",
     "evalue": "",
     "output_type": "error",
     "traceback": [
      "\u001b[1;31mFailed to start the Kernel. \n",
      "\u001b[1;31mKernel project_1 (Python 3.8.13) is not usable. Check the Jupyter output tab for more information. \n",
      "View Jupyter <a href='command:jupyter.viewOutput'>log</a> for further details."
     ]
    }
   ],
   "source": [
    "#now for punctuation\n",
    "import string\n",
    "string.punctuation"
   ]
  },
  {
   "cell_type": "code",
   "execution_count": null,
   "metadata": {
    "execution": {
     "iopub.execute_input": "2022-07-10T10:43:06.975164Z",
     "iopub.status.busy": "2022-07-10T10:43:06.974719Z",
     "iopub.status.idle": "2022-07-10T10:43:06.985154Z",
     "shell.execute_reply": "2022-07-10T10:43:06.984486Z",
     "shell.execute_reply.started": "2022-07-10T10:43:06.975138Z"
    }
   },
   "outputs": [
    {
     "ename": "",
     "evalue": "",
     "output_type": "error",
     "traceback": [
      "\u001b[1;31mFailed to start the Kernel. \n",
      "\u001b[1;31mKernel project_1 (Python 3.8.13) is not usable. Check the Jupyter output tab for more information. \n",
      "View Jupyter <a href='command:jupyter.viewOutput'>log</a> for further details."
     ]
    }
   ],
   "source": [
    "##stemming\n",
    "from nltk.stem.porter import PorterStemmer\n",
    "ps =PorterStemmer()\n",
    "ps.stem('playing')\n",
    "\n",
    "#we got the stemmed version of the word"
   ]
  },
  {
   "cell_type": "markdown",
   "metadata": {},
   "source": [
    "## Now lets apply the *text_transform* function to all the messages in the dataset"
   ]
  },
  {
   "cell_type": "code",
   "execution_count": null,
   "metadata": {
    "execution": {
     "iopub.execute_input": "2022-07-10T10:43:06.986951Z",
     "iopub.status.busy": "2022-07-10T10:43:06.98611Z",
     "iopub.status.idle": "2022-07-10T10:43:19.956293Z",
     "shell.execute_reply": "2022-07-10T10:43:19.955179Z",
     "shell.execute_reply.started": "2022-07-10T10:43:06.986923Z"
    }
   },
   "outputs": [
    {
     "ename": "",
     "evalue": "",
     "output_type": "error",
     "traceback": [
      "\u001b[1;31mFailed to start the Kernel. \n",
      "\u001b[1;31mKernel project_1 (Python 3.8.13) is not usable. Check the Jupyter output tab for more information. \n",
      "View Jupyter <a href='command:jupyter.viewOutput'>log</a> for further details."
     ]
    }
   ],
   "source": [
    "df['message'].apply(text_transform)"
   ]
  },
  {
   "cell_type": "code",
   "execution_count": null,
   "metadata": {
    "execution": {
     "iopub.execute_input": "2022-07-10T10:43:19.958719Z",
     "iopub.status.busy": "2022-07-10T10:43:19.958308Z",
     "iopub.status.idle": "2022-07-10T10:43:32.708034Z",
     "shell.execute_reply": "2022-07-10T10:43:32.707208Z",
     "shell.execute_reply.started": "2022-07-10T10:43:19.95868Z"
    }
   },
   "outputs": [
    {
     "ename": "",
     "evalue": "",
     "output_type": "error",
     "traceback": [
      "\u001b[1;31mFailed to start the Kernel. \n",
      "\u001b[1;31mKernel project_1 (Python 3.8.13) is not usable. Check the Jupyter output tab for more information. \n",
      "View Jupyter <a href='command:jupyter.viewOutput'>log</a> for further details."
     ]
    }
   ],
   "source": [
    "df['transformed_msg']=df['message'].apply(text_transform)"
   ]
  },
  {
   "cell_type": "code",
   "execution_count": null,
   "metadata": {
    "execution": {
     "iopub.execute_input": "2022-07-10T10:43:32.710131Z",
     "iopub.status.busy": "2022-07-10T10:43:32.709314Z",
     "iopub.status.idle": "2022-07-10T10:43:32.723432Z",
     "shell.execute_reply": "2022-07-10T10:43:32.722322Z",
     "shell.execute_reply.started": "2022-07-10T10:43:32.710095Z"
    }
   },
   "outputs": [
    {
     "ename": "",
     "evalue": "",
     "output_type": "error",
     "traceback": [
      "\u001b[1;31mFailed to start the Kernel. \n",
      "\u001b[1;31mKernel project_1 (Python 3.8.13) is not usable. Check the Jupyter output tab for more information. \n",
      "View Jupyter <a href='command:jupyter.viewOutput'>log</a> for further details."
     ]
    }
   ],
   "source": [
    "df.head()"
   ]
  },
  {
   "cell_type": "markdown",
   "metadata": {},
   "source": [
    "### *Now we have to work basically on 2 columns the \"transformed_msg\" and \"message_type\"*"
   ]
  },
  {
   "cell_type": "markdown",
   "metadata": {},
   "source": [
    "# Word Cloud"
   ]
  },
  {
   "cell_type": "code",
   "execution_count": null,
   "metadata": {
    "execution": {
     "iopub.execute_input": "2022-07-10T10:43:32.725826Z",
     "iopub.status.busy": "2022-07-10T10:43:32.725028Z",
     "iopub.status.idle": "2022-07-10T10:43:32.731064Z",
     "shell.execute_reply": "2022-07-10T10:43:32.729839Z",
     "shell.execute_reply.started": "2022-07-10T10:43:32.725768Z"
    }
   },
   "outputs": [
    {
     "ename": "",
     "evalue": "",
     "output_type": "error",
     "traceback": [
      "\u001b[1;31mFailed to start the Kernel. \n",
      "\u001b[1;31mKernel project_1 (Python 3.8.13) is not usable. Check the Jupyter output tab for more information. \n",
      "View Jupyter <a href='command:jupyter.viewOutput'>log</a> for further details."
     ]
    }
   ],
   "source": [
    "#drawing a word cloud of maximum occuring words in the messages\n",
    "from wordcloud import WordCloud\n",
    "#create its object\n",
    "wc=WordCloud(width=500,height=500,min_font_size=10,background_color='white')"
   ]
  },
  {
   "cell_type": "code",
   "execution_count": null,
   "metadata": {
    "execution": {
     "iopub.execute_input": "2022-07-10T10:43:32.732557Z",
     "iopub.status.busy": "2022-07-10T10:43:32.732267Z",
     "iopub.status.idle": "2022-07-10T10:43:33.127978Z",
     "shell.execute_reply": "2022-07-10T10:43:33.127008Z",
     "shell.execute_reply.started": "2022-07-10T10:43:32.73253Z"
    }
   },
   "outputs": [
    {
     "ename": "",
     "evalue": "",
     "output_type": "error",
     "traceback": [
      "\u001b[1;31mFailed to start the Kernel. \n",
      "\u001b[1;31mKernel project_1 (Python 3.8.13) is not usable. Check the Jupyter output tab for more information. \n",
      "View Jupyter <a href='command:jupyter.viewOutput'>log</a> for further details."
     ]
    }
   ],
   "source": [
    "##word cloud for SPAM\n",
    "spam_wc=wc.generate(df[df['message_type']==1]['transformed_msg'].str.cat(sep=\"\"))"
   ]
  },
  {
   "cell_type": "code",
   "execution_count": null,
   "metadata": {
    "execution": {
     "iopub.execute_input": "2022-07-10T10:43:33.129856Z",
     "iopub.status.busy": "2022-07-10T10:43:33.129479Z",
     "iopub.status.idle": "2022-07-10T10:43:33.574711Z",
     "shell.execute_reply": "2022-07-10T10:43:33.570189Z",
     "shell.execute_reply.started": "2022-07-10T10:43:33.129822Z"
    }
   },
   "outputs": [
    {
     "ename": "",
     "evalue": "",
     "output_type": "error",
     "traceback": [
      "\u001b[1;31mFailed to start the Kernel. \n",
      "\u001b[1;31mKernel project_1 (Python 3.8.13) is not usable. Check the Jupyter output tab for more information. \n",
      "View Jupyter <a href='command:jupyter.viewOutput'>log</a> for further details."
     ]
    }
   ],
   "source": [
    "#display the word cloud---SPAM\n",
    "plt.figure(figsize=(18,12))\n",
    "plt.imshow(spam_wc)"
   ]
  },
  {
   "cell_type": "code",
   "execution_count": null,
   "metadata": {
    "execution": {
     "iopub.execute_input": "2022-07-10T10:43:33.576904Z",
     "iopub.status.busy": "2022-07-10T10:43:33.576458Z",
     "iopub.status.idle": "2022-07-10T10:43:34.432767Z",
     "shell.execute_reply": "2022-07-10T10:43:34.431684Z",
     "shell.execute_reply.started": "2022-07-10T10:43:33.576864Z"
    }
   },
   "outputs": [
    {
     "ename": "",
     "evalue": "",
     "output_type": "error",
     "traceback": [
      "\u001b[1;31mFailed to start the Kernel. \n",
      "\u001b[1;31mKernel project_1 (Python 3.8.13) is not usable. Check the Jupyter output tab for more information. \n",
      "View Jupyter <a href='command:jupyter.viewOutput'>log</a> for further details."
     ]
    }
   ],
   "source": [
    "## word cloud for ham messages\n",
    "ham_wc=wc.generate(df[df['message_type']==0]['transformed_msg'].str.cat(sep=\" \"))"
   ]
  },
  {
   "cell_type": "code",
   "execution_count": null,
   "metadata": {
    "execution": {
     "iopub.execute_input": "2022-07-10T10:43:34.435076Z",
     "iopub.status.busy": "2022-07-10T10:43:34.434364Z",
     "iopub.status.idle": "2022-07-10T10:43:34.90419Z",
     "shell.execute_reply": "2022-07-10T10:43:34.903019Z",
     "shell.execute_reply.started": "2022-07-10T10:43:34.435032Z"
    }
   },
   "outputs": [
    {
     "ename": "",
     "evalue": "",
     "output_type": "error",
     "traceback": [
      "\u001b[1;31mFailed to start the Kernel. \n",
      "\u001b[1;31mKernel project_1 (Python 3.8.13) is not usable. Check the Jupyter output tab for more information. \n",
      "View Jupyter <a href='command:jupyter.viewOutput'>log</a> for further details."
     ]
    }
   ],
   "source": [
    "#show the wordcloud for ham messages\n",
    "plt.figure(figsize=(18,12))\n",
    "plt.imshow(ham_wc)\n"
   ]
  },
  {
   "cell_type": "markdown",
   "metadata": {},
   "source": [
    "### Lets find the top 30 words used in Ham and Spam"
   ]
  },
  {
   "cell_type": "code",
   "execution_count": null,
   "metadata": {
    "execution": {
     "iopub.execute_input": "2022-07-10T10:43:34.906616Z",
     "iopub.status.busy": "2022-07-10T10:43:34.905592Z",
     "iopub.status.idle": "2022-07-10T10:43:34.926341Z",
     "shell.execute_reply": "2022-07-10T10:43:34.925592Z",
     "shell.execute_reply.started": "2022-07-10T10:43:34.906581Z"
    }
   },
   "outputs": [
    {
     "ename": "",
     "evalue": "",
     "output_type": "error",
     "traceback": [
      "\u001b[1;31mFailed to start the Kernel. \n",
      "\u001b[1;31mKernel project_1 (Python 3.8.13) is not usable. Check the Jupyter output tab for more information. \n",
      "View Jupyter <a href='command:jupyter.viewOutput'>log</a> for further details."
     ]
    }
   ],
   "source": [
    "##finding the top 30 words used in Ham and spam\n",
    "##lets write a custom code for this\n",
    "df[df['message_type']==1]['transformed_msg'].tolist()\n"
   ]
  },
  {
   "cell_type": "code",
   "execution_count": null,
   "metadata": {
    "execution": {
     "iopub.execute_input": "2022-07-10T10:43:34.93625Z",
     "iopub.status.busy": "2022-07-10T10:43:34.935205Z",
     "iopub.status.idle": "2022-07-10T10:43:34.945319Z",
     "shell.execute_reply": "2022-07-10T10:43:34.944589Z",
     "shell.execute_reply.started": "2022-07-10T10:43:34.936203Z"
    }
   },
   "outputs": [
    {
     "ename": "",
     "evalue": "",
     "output_type": "error",
     "traceback": [
      "\u001b[1;31mFailed to start the Kernel. \n",
      "\u001b[1;31mKernel project_1 (Python 3.8.13) is not usable. Check the Jupyter output tab for more information. \n",
      "View Jupyter <a href='command:jupyter.viewOutput'>log</a> for further details."
     ]
    }
   ],
   "source": [
    "##Lets print all the spam messages\n",
    "spam_corpus=[]\n",
    "for msg in df[df['message_type']==1]['transformed_msg'].tolist():\n",
    "    for word in msg.split():\n",
    "        spam_corpus.append(word)\n",
    "       \n",
    "   "
   ]
  },
  {
   "cell_type": "code",
   "execution_count": null,
   "metadata": {
    "execution": {
     "iopub.execute_input": "2022-07-10T10:43:34.947316Z",
     "iopub.status.busy": "2022-07-10T10:43:34.946679Z",
     "iopub.status.idle": "2022-07-10T10:43:34.95588Z",
     "shell.execute_reply": "2022-07-10T10:43:34.955207Z",
     "shell.execute_reply.started": "2022-07-10T10:43:34.947276Z"
    }
   },
   "outputs": [
    {
     "ename": "",
     "evalue": "",
     "output_type": "error",
     "traceback": [
      "\u001b[1;31mFailed to start the Kernel. \n",
      "\u001b[1;31mKernel project_1 (Python 3.8.13) is not usable. Check the Jupyter output tab for more information. \n",
      "View Jupyter <a href='command:jupyter.viewOutput'>log</a> for further details."
     ]
    }
   ],
   "source": [
    " len(spam_corpus)"
   ]
  },
  {
   "cell_type": "code",
   "execution_count": null,
   "metadata": {
    "execution": {
     "iopub.execute_input": "2022-07-10T10:43:34.957588Z",
     "iopub.status.busy": "2022-07-10T10:43:34.957069Z",
     "iopub.status.idle": "2022-07-10T10:43:35.00261Z",
     "shell.execute_reply": "2022-07-10T10:43:35.001553Z",
     "shell.execute_reply.started": "2022-07-10T10:43:34.957559Z"
    }
   },
   "outputs": [
    {
     "ename": "",
     "evalue": "",
     "output_type": "error",
     "traceback": [
      "\u001b[1;31mFailed to start the Kernel. \n",
      "\u001b[1;31mKernel project_1 (Python 3.8.13) is not usable. Check the Jupyter output tab for more information. \n",
      "View Jupyter <a href='command:jupyter.viewOutput'>log</a> for further details."
     ]
    }
   ],
   "source": [
    "## now lets find the most occuring words\n",
    "from collections import Counter\n",
    "Counter(spam_corpus)"
   ]
  },
  {
   "cell_type": "code",
   "execution_count": null,
   "metadata": {
    "execution": {
     "iopub.execute_input": "2022-07-10T10:43:35.004193Z",
     "iopub.status.busy": "2022-07-10T10:43:35.003866Z",
     "iopub.status.idle": "2022-07-10T10:43:35.013658Z",
     "shell.execute_reply": "2022-07-10T10:43:35.012967Z",
     "shell.execute_reply.started": "2022-07-10T10:43:35.004163Z"
    }
   },
   "outputs": [
    {
     "ename": "",
     "evalue": "",
     "output_type": "error",
     "traceback": [
      "\u001b[1;31mFailed to start the Kernel. \n",
      "\u001b[1;31mKernel project_1 (Python 3.8.13) is not usable. Check the Jupyter output tab for more information. \n",
      "View Jupyter <a href='command:jupyter.viewOutput'>log</a> for further details."
     ]
    }
   ],
   "source": [
    "#Top 30 \n",
    "Counter(spam_corpus).most_common(30)"
   ]
  },
  {
   "cell_type": "code",
   "execution_count": null,
   "metadata": {
    "execution": {
     "iopub.execute_input": "2022-07-10T10:43:35.015345Z",
     "iopub.status.busy": "2022-07-10T10:43:35.015047Z",
     "iopub.status.idle": "2022-07-10T10:43:35.034007Z",
     "shell.execute_reply": "2022-07-10T10:43:35.032295Z",
     "shell.execute_reply.started": "2022-07-10T10:43:35.015317Z"
    }
   },
   "outputs": [
    {
     "ename": "",
     "evalue": "",
     "output_type": "error",
     "traceback": [
      "\u001b[1;31mFailed to start the Kernel. \n",
      "\u001b[1;31mKernel project_1 (Python 3.8.13) is not usable. Check the Jupyter output tab for more information. \n",
      "View Jupyter <a href='command:jupyter.viewOutput'>log</a> for further details."
     ]
    }
   ],
   "source": [
    "#Add those 30 words in one dataframe\n",
    "pd.DataFrame(Counter(spam_corpus).most_common(30))"
   ]
  },
  {
   "cell_type": "code",
   "execution_count": null,
   "metadata": {
    "execution": {
     "iopub.execute_input": "2022-07-10T10:43:35.036062Z",
     "iopub.status.busy": "2022-07-10T10:43:35.035404Z",
     "iopub.status.idle": "2022-07-10T10:43:35.458369Z",
     "shell.execute_reply": "2022-07-10T10:43:35.456975Z",
     "shell.execute_reply.started": "2022-07-10T10:43:35.036018Z"
    }
   },
   "outputs": [
    {
     "ename": "",
     "evalue": "",
     "output_type": "error",
     "traceback": [
      "\u001b[1;31mFailed to start the Kernel. \n",
      "\u001b[1;31mKernel project_1 (Python 3.8.13) is not usable. Check the Jupyter output tab for more information. \n",
      "View Jupyter <a href='command:jupyter.viewOutput'>log</a> for further details."
     ]
    }
   ],
   "source": [
    "##plot the barplt\n",
    "plt.figure(figsize=(18,12))\n",
    "sns.barplot(pd.DataFrame(Counter(spam_corpus).most_common(30))[0],pd.DataFrame(Counter(spam_corpus).most_common(30))[1])\n",
    "plt.xticks(rotation='vertical')\n",
    "plt.show()\n"
   ]
  },
  {
   "cell_type": "code",
   "execution_count": null,
   "metadata": {
    "execution": {
     "iopub.execute_input": "2022-07-10T10:43:35.460097Z",
     "iopub.status.busy": "2022-07-10T10:43:35.459749Z",
     "iopub.status.idle": "2022-07-10T10:43:35.476327Z",
     "shell.execute_reply": "2022-07-10T10:43:35.47552Z",
     "shell.execute_reply.started": "2022-07-10T10:43:35.460067Z"
    }
   },
   "outputs": [
    {
     "ename": "",
     "evalue": "",
     "output_type": "error",
     "traceback": [
      "\u001b[1;31mFailed to start the Kernel. \n",
      "\u001b[1;31mKernel project_1 (Python 3.8.13) is not usable. Check the Jupyter output tab for more information. \n",
      "View Jupyter <a href='command:jupyter.viewOutput'>log</a> for further details."
     ]
    }
   ],
   "source": [
    "# Find top 30 words for HAM\n",
    "ham_corpus=[]\n",
    "for msg in df[df['message_type']==0]['transformed_msg']:\n",
    "    for word in msg.split():\n",
    "        ham_corpus.append(word)\n"
   ]
  },
  {
   "cell_type": "code",
   "execution_count": null,
   "metadata": {
    "execution": {
     "iopub.execute_input": "2022-07-10T10:43:35.47867Z",
     "iopub.status.busy": "2022-07-10T10:43:35.4779Z",
     "iopub.status.idle": "2022-07-10T10:43:35.495922Z",
     "shell.execute_reply": "2022-07-10T10:43:35.49475Z",
     "shell.execute_reply.started": "2022-07-10T10:43:35.478623Z"
    }
   },
   "outputs": [
    {
     "ename": "",
     "evalue": "",
     "output_type": "error",
     "traceback": [
      "\u001b[1;31mFailed to start the Kernel. \n",
      "\u001b[1;31mKernel project_1 (Python 3.8.13) is not usable. Check the Jupyter output tab for more information. \n",
      "View Jupyter <a href='command:jupyter.viewOutput'>log</a> for further details."
     ]
    }
   ],
   "source": [
    "Counter(ham_corpus).most_common(30)"
   ]
  },
  {
   "cell_type": "code",
   "execution_count": null,
   "metadata": {
    "execution": {
     "iopub.execute_input": "2022-07-10T10:43:35.498422Z",
     "iopub.status.busy": "2022-07-10T10:43:35.497431Z",
     "iopub.status.idle": "2022-07-10T10:43:35.911792Z",
     "shell.execute_reply": "2022-07-10T10:43:35.91084Z",
     "shell.execute_reply.started": "2022-07-10T10:43:35.498376Z"
    }
   },
   "outputs": [
    {
     "ename": "",
     "evalue": "",
     "output_type": "error",
     "traceback": [
      "\u001b[1;31mFailed to start the Kernel. \n",
      "\u001b[1;31mKernel project_1 (Python 3.8.13) is not usable. Check the Jupyter output tab for more information. \n",
      "View Jupyter <a href='command:jupyter.viewOutput'>log</a> for further details."
     ]
    }
   ],
   "source": [
    "plt.figure(figsize=(18,12))\n",
    "sns.barplot(pd.DataFrame(Counter(ham_corpus).most_common(30))[0],pd.DataFrame(Counter(ham_corpus).most_common(30))[1])\n",
    "plt.xticks(rotation='vertical')\n",
    "plt.show()"
   ]
  },
  {
   "cell_type": "markdown",
   "metadata": {},
   "source": [
    "# 4. Model Building"
   ]
  },
  {
   "cell_type": "markdown",
   "metadata": {},
   "source": [
    "**As it known that on Textual Data Naive Bayes Algorithm works the best hence we will use it but along the way also compare it with different algorithms**"
   ]
  },
  {
   "cell_type": "markdown",
   "metadata": {},
   "source": [
    "*Input is categorical*\n",
    "*Output is Numerical*"
   ]
  },
  {
   "cell_type": "markdown",
   "metadata": {},
   "source": [
    "**but as we know in Naive bayes algorithm the input columns should be numerical so we have to convert(VECTORIZE) the column**"
   ]
  },
  {
   "cell_type": "markdown",
   "metadata": {},
   "source": [
    "### How to vectorize:\n",
    "* Bag of Words\n",
    "* TFIDF\n",
    "* Word2vec\n",
    "\n",
    "## Here we will be using BAG OF WORDS"
   ]
  },
  {
   "cell_type": "code",
   "execution_count": null,
   "metadata": {
    "execution": {
     "iopub.execute_input": "2022-07-10T10:43:35.913161Z",
     "iopub.status.busy": "2022-07-10T10:43:35.912893Z",
     "iopub.status.idle": "2022-07-10T10:43:35.918573Z",
     "shell.execute_reply": "2022-07-10T10:43:35.917605Z",
     "shell.execute_reply.started": "2022-07-10T10:43:35.913137Z"
    }
   },
   "outputs": [
    {
     "ename": "",
     "evalue": "",
     "output_type": "error",
     "traceback": [
      "\u001b[1;31mFailed to start the Kernel. \n",
      "\u001b[1;31mKernel project_1 (Python 3.8.13) is not usable. Check the Jupyter output tab for more information. \n",
      "View Jupyter <a href='command:jupyter.viewOutput'>log</a> for further details."
     ]
    }
   ],
   "source": [
    "##Vectorization\n",
    "from sklearn.feature_extraction.text import CountVectorizer\n",
    "cv = CountVectorizer()"
   ]
  },
  {
   "cell_type": "code",
   "execution_count": null,
   "metadata": {
    "execution": {
     "iopub.execute_input": "2022-07-10T10:43:35.920425Z",
     "iopub.status.busy": "2022-07-10T10:43:35.920034Z",
     "iopub.status.idle": "2022-07-10T10:43:36.082799Z",
     "shell.execute_reply": "2022-07-10T10:43:36.081839Z",
     "shell.execute_reply.started": "2022-07-10T10:43:35.920387Z"
    }
   },
   "outputs": [
    {
     "ename": "",
     "evalue": "",
     "output_type": "error",
     "traceback": [
      "\u001b[1;31mFailed to start the Kernel. \n",
      "\u001b[1;31mKernel project_1 (Python 3.8.13) is not usable. Check the Jupyter output tab for more information. \n",
      "View Jupyter <a href='command:jupyter.viewOutput'>log</a> for further details."
     ]
    }
   ],
   "source": [
    "## toarray to convert from sparse array to dense array\n",
    "X=cv.fit_transform(df['transformed_msg']).toarray()"
   ]
  },
  {
   "cell_type": "code",
   "execution_count": null,
   "metadata": {
    "execution": {
     "iopub.execute_input": "2022-07-10T10:43:36.084582Z",
     "iopub.status.busy": "2022-07-10T10:43:36.084138Z",
     "iopub.status.idle": "2022-07-10T10:43:36.096024Z",
     "shell.execute_reply": "2022-07-10T10:43:36.094183Z",
     "shell.execute_reply.started": "2022-07-10T10:43:36.084539Z"
    }
   },
   "outputs": [
    {
     "ename": "",
     "evalue": "",
     "output_type": "error",
     "traceback": [
      "\u001b[1;31mFailed to start the Kernel. \n",
      "\u001b[1;31mKernel project_1 (Python 3.8.13) is not usable. Check the Jupyter output tab for more information. \n",
      "View Jupyter <a href='command:jupyter.viewOutput'>log</a> for further details."
     ]
    }
   ],
   "source": [
    "X.shape"
   ]
  },
  {
   "cell_type": "markdown",
   "metadata": {},
   "source": [
    "*5169 SMS 6629 words*"
   ]
  },
  {
   "cell_type": "code",
   "execution_count": null,
   "metadata": {
    "execution": {
     "iopub.execute_input": "2022-07-10T10:43:36.097818Z",
     "iopub.status.busy": "2022-07-10T10:43:36.097262Z",
     "iopub.status.idle": "2022-07-10T10:43:36.105234Z",
     "shell.execute_reply": "2022-07-10T10:43:36.104257Z",
     "shell.execute_reply.started": "2022-07-10T10:43:36.09764Z"
    }
   },
   "outputs": [
    {
     "ename": "",
     "evalue": "",
     "output_type": "error",
     "traceback": [
      "\u001b[1;31mFailed to start the Kernel. \n",
      "\u001b[1;31mKernel project_1 (Python 3.8.13) is not usable. Check the Jupyter output tab for more information. \n",
      "View Jupyter <a href='command:jupyter.viewOutput'>log</a> for further details."
     ]
    }
   ],
   "source": [
    "y=df['message_type'].values"
   ]
  },
  {
   "cell_type": "markdown",
   "metadata": {},
   "source": [
    "***Now we'll do TRAIN TEST SPLIT***"
   ]
  },
  {
   "cell_type": "code",
   "execution_count": null,
   "metadata": {
    "execution": {
     "iopub.execute_input": "2022-07-10T10:43:36.107266Z",
     "iopub.status.busy": "2022-07-10T10:43:36.10647Z",
     "iopub.status.idle": "2022-07-10T10:43:36.116866Z",
     "shell.execute_reply": "2022-07-10T10:43:36.115905Z",
     "shell.execute_reply.started": "2022-07-10T10:43:36.107235Z"
    }
   },
   "outputs": [
    {
     "ename": "",
     "evalue": "",
     "output_type": "error",
     "traceback": [
      "\u001b[1;31mFailed to start the Kernel. \n",
      "\u001b[1;31mKernel project_1 (Python 3.8.13) is not usable. Check the Jupyter output tab for more information. \n",
      "View Jupyter <a href='command:jupyter.viewOutput'>log</a> for further details."
     ]
    }
   ],
   "source": [
    "from sklearn.model_selection import train_test_split"
   ]
  },
  {
   "cell_type": "code",
   "execution_count": null,
   "metadata": {
    "execution": {
     "iopub.execute_input": "2022-07-10T10:43:36.118356Z",
     "iopub.status.busy": "2022-07-10T10:43:36.117954Z",
     "iopub.status.idle": "2022-07-10T10:43:36.275198Z",
     "shell.execute_reply": "2022-07-10T10:43:36.273938Z",
     "shell.execute_reply.started": "2022-07-10T10:43:36.118315Z"
    }
   },
   "outputs": [
    {
     "ename": "",
     "evalue": "",
     "output_type": "error",
     "traceback": [
      "\u001b[1;31mFailed to start the Kernel. \n",
      "\u001b[1;31mKernel project_1 (Python 3.8.13) is not usable. Check the Jupyter output tab for more information. \n",
      "View Jupyter <a href='command:jupyter.viewOutput'>log</a> for further details."
     ]
    }
   ],
   "source": [
    "X_train,X_test,y_train,y_test = train_test_split(X,y,test_size=0.2,random_state=2)"
   ]
  },
  {
   "cell_type": "code",
   "execution_count": null,
   "metadata": {
    "execution": {
     "iopub.execute_input": "2022-07-10T10:43:36.276841Z",
     "iopub.status.busy": "2022-07-10T10:43:36.276486Z",
     "iopub.status.idle": "2022-07-10T10:43:36.281994Z",
     "shell.execute_reply": "2022-07-10T10:43:36.28098Z",
     "shell.execute_reply.started": "2022-07-10T10:43:36.276797Z"
    }
   },
   "outputs": [
    {
     "ename": "",
     "evalue": "",
     "output_type": "error",
     "traceback": [
      "\u001b[1;31mFailed to start the Kernel. \n",
      "\u001b[1;31mKernel project_1 (Python 3.8.13) is not usable. Check the Jupyter output tab for more information. \n",
      "View Jupyter <a href='command:jupyter.viewOutput'>log</a> for further details."
     ]
    }
   ],
   "source": [
    "from sklearn.naive_bayes import GaussianNB,BernoulliNB, MultinomialNB\n",
    "from sklearn.metrics import accuracy_score,confusion_matrix,precision_score"
   ]
  },
  {
   "cell_type": "code",
   "execution_count": null,
   "metadata": {
    "execution": {
     "iopub.execute_input": "2022-07-10T10:43:36.283455Z",
     "iopub.status.busy": "2022-07-10T10:43:36.283173Z",
     "iopub.status.idle": "2022-07-10T10:43:36.29213Z",
     "shell.execute_reply": "2022-07-10T10:43:36.291343Z",
     "shell.execute_reply.started": "2022-07-10T10:43:36.28342Z"
    }
   },
   "outputs": [
    {
     "ename": "",
     "evalue": "",
     "output_type": "error",
     "traceback": [
      "\u001b[1;31mFailed to start the Kernel. \n",
      "\u001b[1;31mKernel project_1 (Python 3.8.13) is not usable. Check the Jupyter output tab for more information. \n",
      "View Jupyter <a href='command:jupyter.viewOutput'>log</a> for further details."
     ]
    }
   ],
   "source": [
    "gnb = GaussianNB()\n",
    "bnb = BernoulliNB()\n",
    "mnb = MultinomialNB()"
   ]
  },
  {
   "cell_type": "code",
   "execution_count": null,
   "metadata": {
    "execution": {
     "iopub.execute_input": "2022-07-10T10:43:36.293323Z",
     "iopub.status.busy": "2022-07-10T10:43:36.293032Z",
     "iopub.status.idle": "2022-07-10T10:43:36.909944Z",
     "shell.execute_reply": "2022-07-10T10:43:36.908607Z",
     "shell.execute_reply.started": "2022-07-10T10:43:36.293282Z"
    }
   },
   "outputs": [
    {
     "ename": "",
     "evalue": "",
     "output_type": "error",
     "traceback": [
      "\u001b[1;31mFailed to start the Kernel. \n",
      "\u001b[1;31mKernel project_1 (Python 3.8.13) is not usable. Check the Jupyter output tab for more information. \n",
      "View Jupyter <a href='command:jupyter.viewOutput'>log</a> for further details."
     ]
    }
   ],
   "source": [
    "gnb.fit(X_train,y_train)\n",
    "y_pred1= gnb.predict(X_test)\n",
    "print('Accuracy score of Gaussian NB is: ',accuracy_score(y_test,y_pred1))\n",
    "print('Confusion Matrix of Guassian NB is: ',confusion_matrix(y_test,y_pred1))\n",
    "print('Precision score of the Gaussian NB is',precision_score(y_test,y_pred1))\n"
   ]
  },
  {
   "cell_type": "markdown",
   "metadata": {},
   "source": [
    "**we want to reduce false postives as it is a high precision model**\n"
   ]
  },
  {
   "cell_type": "code",
   "execution_count": null,
   "metadata": {
    "execution": {
     "iopub.execute_input": "2022-07-10T10:43:36.911754Z",
     "iopub.status.busy": "2022-07-10T10:43:36.91144Z",
     "iopub.status.idle": "2022-07-10T10:43:37.512819Z",
     "shell.execute_reply": "2022-07-10T10:43:37.511533Z",
     "shell.execute_reply.started": "2022-07-10T10:43:36.911726Z"
    }
   },
   "outputs": [
    {
     "ename": "",
     "evalue": "",
     "output_type": "error",
     "traceback": [
      "\u001b[1;31mFailed to start the Kernel. \n",
      "\u001b[1;31mKernel project_1 (Python 3.8.13) is not usable. Check the Jupyter output tab for more information. \n",
      "View Jupyter <a href='command:jupyter.viewOutput'>log</a> for further details."
     ]
    }
   ],
   "source": [
    "mnb.fit(X_train,y_train)\n",
    "y_pred2=mnb.predict(X_test)\n",
    "print('Accuracy score of Multinomial NB is: ',accuracy_score(y_test,y_pred2))\n",
    "print('Confusion Matrix of Multinomial NB is: ',confusion_matrix(y_test,y_pred2))\n",
    "print('Precision score of the Multinomial NB is',precision_score(y_test,y_pred2))\n",
    "\n",
    "\n"
   ]
  },
  {
   "cell_type": "code",
   "execution_count": null,
   "metadata": {
    "execution": {
     "iopub.execute_input": "2022-07-10T10:43:37.515212Z",
     "iopub.status.busy": "2022-07-10T10:43:37.514769Z",
     "iopub.status.idle": "2022-07-10T10:43:38.120391Z",
     "shell.execute_reply": "2022-07-10T10:43:38.116011Z",
     "shell.execute_reply.started": "2022-07-10T10:43:37.515168Z"
    }
   },
   "outputs": [
    {
     "ename": "",
     "evalue": "",
     "output_type": "error",
     "traceback": [
      "\u001b[1;31mFailed to start the Kernel. \n",
      "\u001b[1;31mKernel project_1 (Python 3.8.13) is not usable. Check the Jupyter output tab for more information. \n",
      "View Jupyter <a href='command:jupyter.viewOutput'>log</a> for further details."
     ]
    }
   ],
   "source": [
    "bnb.fit(X_train,y_train)\n",
    "y_pred3=bnb.predict(X_test)\n",
    "print('Accuracy score of Bernoulli NB is: ',accuracy_score(y_test,y_pred3))\n",
    "print('Confusion Matrix of Bernoulli NB is: ',confusion_matrix(y_test,y_pred3))\n",
    "print('Precision score of the Bernoulli NB is',precision_score(y_test,y_pred3))\n",
    "\n"
   ]
  },
  {
   "cell_type": "markdown",
   "metadata": {},
   "source": [
    "**This is an imbalanced data so precision score matters the most**"
   ]
  },
  {
   "cell_type": "markdown",
   "metadata": {},
   "source": [
    "## Lets try with TFID Vectorizer"
   ]
  },
  {
   "cell_type": "code",
   "execution_count": null,
   "metadata": {
    "execution": {
     "iopub.execute_input": "2022-07-10T10:43:38.122906Z",
     "iopub.status.busy": "2022-07-10T10:43:38.122448Z",
     "iopub.status.idle": "2022-07-10T10:43:38.129464Z",
     "shell.execute_reply": "2022-07-10T10:43:38.128076Z",
     "shell.execute_reply.started": "2022-07-10T10:43:38.122862Z"
    }
   },
   "outputs": [
    {
     "ename": "",
     "evalue": "",
     "output_type": "error",
     "traceback": [
      "\u001b[1;31mFailed to start the Kernel. \n",
      "\u001b[1;31mKernel project_1 (Python 3.8.13) is not usable. Check the Jupyter output tab for more information. \n",
      "View Jupyter <a href='command:jupyter.viewOutput'>log</a> for further details."
     ]
    }
   ],
   "source": [
    "from sklearn.feature_extraction.text import TfidfVectorizer"
   ]
  },
  {
   "cell_type": "code",
   "execution_count": null,
   "metadata": {
    "execution": {
     "iopub.execute_input": "2022-07-10T10:43:38.131719Z",
     "iopub.status.busy": "2022-07-10T10:43:38.131265Z",
     "iopub.status.idle": "2022-07-10T10:43:38.141392Z",
     "shell.execute_reply": "2022-07-10T10:43:38.140124Z",
     "shell.execute_reply.started": "2022-07-10T10:43:38.131671Z"
    }
   },
   "outputs": [
    {
     "ename": "",
     "evalue": "",
     "output_type": "error",
     "traceback": [
      "\u001b[1;31mFailed to start the Kernel. \n",
      "\u001b[1;31mKernel project_1 (Python 3.8.13) is not usable. Check the Jupyter output tab for more information. \n",
      "View Jupyter <a href='command:jupyter.viewOutput'>log</a> for further details."
     ]
    }
   ],
   "source": [
    "tfidf= TfidfVectorizer(max_features=3000)"
   ]
  },
  {
   "cell_type": "markdown",
   "metadata": {},
   "source": [
    "### Done for Model Improvement--> Scaling"
   ]
  },
  {
   "cell_type": "code",
   "execution_count": null,
   "metadata": {
    "execution": {
     "iopub.execute_input": "2022-07-10T10:43:38.144033Z",
     "iopub.status.busy": "2022-07-10T10:43:38.143421Z",
     "iopub.status.idle": "2022-07-10T10:43:38.391715Z",
     "shell.execute_reply": "2022-07-10T10:43:38.390768Z",
     "shell.execute_reply.started": "2022-07-10T10:43:38.143983Z"
    }
   },
   "outputs": [
    {
     "ename": "",
     "evalue": "",
     "output_type": "error",
     "traceback": [
      "\u001b[1;31mFailed to start the Kernel. \n",
      "\u001b[1;31mKernel project_1 (Python 3.8.13) is not usable. Check the Jupyter output tab for more information. \n",
      "View Jupyter <a href='command:jupyter.viewOutput'>log</a> for further details."
     ]
    }
   ],
   "source": [
    "X=tfidf.fit_transform(df['transformed_msg']).toarray()"
   ]
  },
  {
   "cell_type": "code",
   "execution_count": null,
   "metadata": {
    "execution": {
     "iopub.execute_input": "2022-07-10T10:43:38.393449Z",
     "iopub.status.busy": "2022-07-10T10:43:38.393148Z",
     "iopub.status.idle": "2022-07-10T10:43:38.400303Z",
     "shell.execute_reply": "2022-07-10T10:43:38.399177Z",
     "shell.execute_reply.started": "2022-07-10T10:43:38.393422Z"
    }
   },
   "outputs": [
    {
     "ename": "",
     "evalue": "",
     "output_type": "error",
     "traceback": [
      "\u001b[1;31mFailed to start the Kernel. \n",
      "\u001b[1;31mKernel project_1 (Python 3.8.13) is not usable. Check the Jupyter output tab for more information. \n",
      "View Jupyter <a href='command:jupyter.viewOutput'>log</a> for further details."
     ]
    }
   ],
   "source": [
    "X.shape"
   ]
  },
  {
   "cell_type": "code",
   "execution_count": null,
   "metadata": {
    "execution": {
     "iopub.execute_input": "2022-07-10T10:43:38.402919Z",
     "iopub.status.busy": "2022-07-10T10:43:38.402292Z",
     "iopub.status.idle": "2022-07-10T10:43:38.411412Z",
     "shell.execute_reply": "2022-07-10T10:43:38.410321Z",
     "shell.execute_reply.started": "2022-07-10T10:43:38.402875Z"
    }
   },
   "outputs": [
    {
     "ename": "",
     "evalue": "",
     "output_type": "error",
     "traceback": [
      "\u001b[1;31mFailed to start the Kernel. \n",
      "\u001b[1;31mKernel project_1 (Python 3.8.13) is not usable. Check the Jupyter output tab for more information. \n",
      "View Jupyter <a href='command:jupyter.viewOutput'>log</a> for further details."
     ]
    }
   ],
   "source": [
    "y=df['message_type'].values"
   ]
  },
  {
   "cell_type": "code",
   "execution_count": null,
   "metadata": {
    "execution": {
     "iopub.execute_input": "2022-07-10T10:43:38.413111Z",
     "iopub.status.busy": "2022-07-10T10:43:38.412747Z",
     "iopub.status.idle": "2022-07-10T10:43:38.421449Z",
     "shell.execute_reply": "2022-07-10T10:43:38.420549Z",
     "shell.execute_reply.started": "2022-07-10T10:43:38.413082Z"
    }
   },
   "outputs": [
    {
     "ename": "",
     "evalue": "",
     "output_type": "error",
     "traceback": [
      "\u001b[1;31mFailed to start the Kernel. \n",
      "\u001b[1;31mKernel project_1 (Python 3.8.13) is not usable. Check the Jupyter output tab for more information. \n",
      "View Jupyter <a href='command:jupyter.viewOutput'>log</a> for further details."
     ]
    }
   ],
   "source": [
    "from sklearn.model_selection import train_test_split"
   ]
  },
  {
   "cell_type": "code",
   "execution_count": null,
   "metadata": {
    "execution": {
     "iopub.execute_input": "2022-07-10T10:43:38.423672Z",
     "iopub.status.busy": "2022-07-10T10:43:38.423247Z",
     "iopub.status.idle": "2022-07-10T10:43:38.48612Z",
     "shell.execute_reply": "2022-07-10T10:43:38.485177Z",
     "shell.execute_reply.started": "2022-07-10T10:43:38.423631Z"
    }
   },
   "outputs": [
    {
     "ename": "",
     "evalue": "",
     "output_type": "error",
     "traceback": [
      "\u001b[1;31mFailed to start the Kernel. \n",
      "\u001b[1;31mKernel project_1 (Python 3.8.13) is not usable. Check the Jupyter output tab for more information. \n",
      "View Jupyter <a href='command:jupyter.viewOutput'>log</a> for further details."
     ]
    }
   ],
   "source": [
    "X_train,X_test,y_train,y_test = train_test_split(X,y,test_size=0.2,random_state=2)"
   ]
  },
  {
   "cell_type": "code",
   "execution_count": null,
   "metadata": {
    "execution": {
     "iopub.execute_input": "2022-07-10T10:43:38.487548Z",
     "iopub.status.busy": "2022-07-10T10:43:38.487258Z",
     "iopub.status.idle": "2022-07-10T10:43:38.492979Z",
     "shell.execute_reply": "2022-07-10T10:43:38.491989Z",
     "shell.execute_reply.started": "2022-07-10T10:43:38.48752Z"
    }
   },
   "outputs": [
    {
     "ename": "",
     "evalue": "",
     "output_type": "error",
     "traceback": [
      "\u001b[1;31mFailed to start the Kernel. \n",
      "\u001b[1;31mKernel project_1 (Python 3.8.13) is not usable. Check the Jupyter output tab for more information. \n",
      "View Jupyter <a href='command:jupyter.viewOutput'>log</a> for further details."
     ]
    }
   ],
   "source": [
    "gnb = GaussianNB()\n",
    "bnb = BernoulliNB()\n",
    "mnb = MultinomialNB()"
   ]
  },
  {
   "cell_type": "code",
   "execution_count": null,
   "metadata": {
    "execution": {
     "iopub.execute_input": "2022-07-10T10:43:38.494729Z",
     "iopub.status.busy": "2022-07-10T10:43:38.494396Z",
     "iopub.status.idle": "2022-07-10T10:43:38.737774Z",
     "shell.execute_reply": "2022-07-10T10:43:38.73673Z",
     "shell.execute_reply.started": "2022-07-10T10:43:38.494698Z"
    }
   },
   "outputs": [
    {
     "ename": "",
     "evalue": "",
     "output_type": "error",
     "traceback": [
      "\u001b[1;31mFailed to start the Kernel. \n",
      "\u001b[1;31mKernel project_1 (Python 3.8.13) is not usable. Check the Jupyter output tab for more information. \n",
      "View Jupyter <a href='command:jupyter.viewOutput'>log</a> for further details."
     ]
    }
   ],
   "source": [
    "gnb.fit(X_train,y_train)\n",
    "y_pred1= gnb.predict(X_test)\n",
    "print('Accuracy score of Gaussian NB is: ',accuracy_score(y_test,y_pred1))\n",
    "print('Confusion Matrix of Guassian NB is: ',confusion_matrix(y_test,y_pred1))\n",
    "print('Precision score of the Gaussian NB is',precision_score(y_test,y_pred1))\n"
   ]
  },
  {
   "cell_type": "code",
   "execution_count": null,
   "metadata": {
    "execution": {
     "iopub.execute_input": "2022-07-10T10:43:38.739449Z",
     "iopub.status.busy": "2022-07-10T10:43:38.739162Z",
     "iopub.status.idle": "2022-07-10T10:43:38.792222Z",
     "shell.execute_reply": "2022-07-10T10:43:38.790846Z",
     "shell.execute_reply.started": "2022-07-10T10:43:38.739423Z"
    }
   },
   "outputs": [
    {
     "ename": "",
     "evalue": "",
     "output_type": "error",
     "traceback": [
      "\u001b[1;31mFailed to start the Kernel. \n",
      "\u001b[1;31mKernel project_1 (Python 3.8.13) is not usable. Check the Jupyter output tab for more information. \n",
      "View Jupyter <a href='command:jupyter.viewOutput'>log</a> for further details."
     ]
    }
   ],
   "source": [
    "mnb.fit(X_train,y_train)\n",
    "y_pred2=mnb.predict(X_test)\n",
    "print('Accuracy score of Multinomial NB is: ',accuracy_score(y_test,y_pred2))\n",
    "print('Confusion Matrix of Multinomial NB is: ',confusion_matrix(y_test,y_pred2))\n",
    "print('Precision score of the Multinomial NB is',precision_score(y_test,y_pred2))\n"
   ]
  },
  {
   "cell_type": "markdown",
   "metadata": {},
   "source": [
    "**Here precision is 1 which is very good as there will be no FALSE POSITIVE**"
   ]
  },
  {
   "cell_type": "code",
   "execution_count": null,
   "metadata": {
    "execution": {
     "iopub.execute_input": "2022-07-10T10:43:38.794911Z",
     "iopub.status.busy": "2022-07-10T10:43:38.794353Z",
     "iopub.status.idle": "2022-07-10T10:43:38.98428Z",
     "shell.execute_reply": "2022-07-10T10:43:38.982997Z",
     "shell.execute_reply.started": "2022-07-10T10:43:38.794864Z"
    }
   },
   "outputs": [
    {
     "ename": "",
     "evalue": "",
     "output_type": "error",
     "traceback": [
      "\u001b[1;31mFailed to start the Kernel. \n",
      "\u001b[1;31mKernel project_1 (Python 3.8.13) is not usable. Check the Jupyter output tab for more information. \n",
      "View Jupyter <a href='command:jupyter.viewOutput'>log</a> for further details."
     ]
    }
   ],
   "source": [
    "bnb.fit(X_train,y_train)\n",
    "y_pred3=bnb.predict(X_test)\n",
    "print('Accuracy score of Bernoulli NB is: ',accuracy_score(y_test,y_pred3))\n",
    "print('Confusion Matrix of Bernoulli NB is: ',confusion_matrix(y_test,y_pred3))\n",
    "print('Precision score of the Bernoulli NB is',precision_score(y_test,y_pred3))\n"
   ]
  },
  {
   "cell_type": "markdown",
   "metadata": {},
   "source": [
    "## We are chosing MNB with TFIDF"
   ]
  },
  {
   "cell_type": "markdown",
   "metadata": {},
   "source": [
    "### *Lets compare other classification algorithms with MNB*"
   ]
  },
  {
   "cell_type": "code",
   "execution_count": null,
   "metadata": {
    "execution": {
     "iopub.execute_input": "2022-07-10T10:43:38.986923Z",
     "iopub.status.busy": "2022-07-10T10:43:38.986056Z",
     "iopub.status.idle": "2022-07-10T10:43:38.995731Z",
     "shell.execute_reply": "2022-07-10T10:43:38.99454Z",
     "shell.execute_reply.started": "2022-07-10T10:43:38.986871Z"
    }
   },
   "outputs": [
    {
     "ename": "",
     "evalue": "",
     "output_type": "error",
     "traceback": [
      "\u001b[1;31mFailed to start the Kernel. \n",
      "\u001b[1;31mKernel project_1 (Python 3.8.13) is not usable. Check the Jupyter output tab for more information. \n",
      "View Jupyter <a href='command:jupyter.viewOutput'>log</a> for further details."
     ]
    }
   ],
   "source": [
    "from sklearn.linear_model import LogisticRegression\n",
    "from sklearn.svm import SVC\n",
    "from sklearn.naive_bayes import MultinomialNB\n",
    "from sklearn.tree import DecisionTreeClassifier\n",
    "from sklearn.neighbors import KNeighborsClassifier\n",
    "from sklearn.ensemble import RandomForestClassifier\n",
    "from sklearn.ensemble import AdaBoostClassifier\n",
    "from sklearn.ensemble import BaggingClassifier\n",
    "from sklearn.ensemble import ExtraTreesClassifier\n",
    "from sklearn.ensemble import GradientBoostingClassifier\n",
    "from xgboost import XGBClassifier"
   ]
  },
  {
   "cell_type": "code",
   "execution_count": null,
   "metadata": {
    "execution": {
     "iopub.execute_input": "2022-07-10T10:43:38.998089Z",
     "iopub.status.busy": "2022-07-10T10:43:38.99735Z",
     "iopub.status.idle": "2022-07-10T10:43:39.01206Z",
     "shell.execute_reply": "2022-07-10T10:43:39.010536Z",
     "shell.execute_reply.started": "2022-07-10T10:43:38.998042Z"
    }
   },
   "outputs": [
    {
     "ename": "",
     "evalue": "",
     "output_type": "error",
     "traceback": [
      "\u001b[1;31mFailed to start the Kernel. \n",
      "\u001b[1;31mKernel project_1 (Python 3.8.13) is not usable. Check the Jupyter output tab for more information. \n",
      "View Jupyter <a href='command:jupyter.viewOutput'>log</a> for further details."
     ]
    }
   ],
   "source": [
    "#Creating objects of every algorithm\n",
    "svc = SVC(kernel='sigmoid', gamma=1.0)\n",
    "knc = KNeighborsClassifier()\n",
    "mnb = MultinomialNB()\n",
    "dtc = DecisionTreeClassifier(max_depth=5)\n",
    "lrc = LogisticRegression(solver='liblinear', penalty='l1')\n",
    "rfc = RandomForestClassifier(n_estimators=50, random_state=2)\n",
    "abc = AdaBoostClassifier(n_estimators=50, random_state=2)\n",
    "bc = BaggingClassifier(n_estimators=50, random_state=2)\n",
    "etc = ExtraTreesClassifier(n_estimators=50, random_state=2)\n",
    "gbdt = GradientBoostingClassifier(n_estimators=50,random_state=2)\n",
    "xgb = XGBClassifier(n_estimators=50,random_state=2)"
   ]
  },
  {
   "cell_type": "code",
   "execution_count": null,
   "metadata": {
    "execution": {
     "iopub.execute_input": "2022-07-10T10:43:39.014712Z",
     "iopub.status.busy": "2022-07-10T10:43:39.013968Z",
     "iopub.status.idle": "2022-07-10T10:43:39.028147Z",
     "shell.execute_reply": "2022-07-10T10:43:39.026846Z",
     "shell.execute_reply.started": "2022-07-10T10:43:39.014668Z"
    }
   },
   "outputs": [
    {
     "ename": "",
     "evalue": "",
     "output_type": "error",
     "traceback": [
      "\u001b[1;31mFailed to start the Kernel. \n",
      "\u001b[1;31mKernel project_1 (Python 3.8.13) is not usable. Check the Jupyter output tab for more information. \n",
      "View Jupyter <a href='command:jupyter.viewOutput'>log</a> for further details."
     ]
    }
   ],
   "source": [
    "# create a dictionary of classifiers\n",
    "clfs = {\n",
    "    'SVC' : svc,\n",
    "    'KN' : knc, \n",
    "    'NB': mnb, \n",
    "    'DT': dtc, \n",
    "    'LR': lrc, \n",
    "    'RF': rfc, \n",
    "    'AdaBoost': abc, \n",
    "    'BgC': bc, \n",
    "    'ETC': etc,\n",
    "    'GBDT':gbdt,\n",
    "    'xgb':xgb\n",
    "}"
   ]
  },
  {
   "cell_type": "code",
   "execution_count": null,
   "metadata": {
    "execution": {
     "iopub.execute_input": "2022-07-10T10:43:39.039355Z",
     "iopub.status.busy": "2022-07-10T10:43:39.035247Z",
     "iopub.status.idle": "2022-07-10T10:43:39.047555Z",
     "shell.execute_reply": "2022-07-10T10:43:39.046286Z",
     "shell.execute_reply.started": "2022-07-10T10:43:39.039302Z"
    }
   },
   "outputs": [
    {
     "ename": "",
     "evalue": "",
     "output_type": "error",
     "traceback": [
      "\u001b[1;31mFailed to start the Kernel. \n",
      "\u001b[1;31mKernel project_1 (Python 3.8.13) is not usable. Check the Jupyter output tab for more information. \n",
      "View Jupyter <a href='command:jupyter.viewOutput'>log</a> for further details."
     ]
    }
   ],
   "source": [
    "def train_classifier(clf,X_train,y_train,X_test,y_test):\n",
    "    clf.fit(X_train,y_train)\n",
    "    y_pred = clf.predict(X_test)\n",
    "    accuracy = accuracy_score(y_test,y_pred)\n",
    "    precision = precision_score(y_test,y_pred)\n",
    "    \n",
    "    return accuracy,precision"
   ]
  },
  {
   "cell_type": "code",
   "execution_count": null,
   "metadata": {
    "execution": {
     "iopub.execute_input": "2022-07-10T10:43:39.050887Z",
     "iopub.status.busy": "2022-07-10T10:43:39.049632Z",
     "iopub.status.idle": "2022-07-10T10:43:47.399617Z",
     "shell.execute_reply": "2022-07-10T10:43:47.398843Z",
     "shell.execute_reply.started": "2022-07-10T10:43:39.050826Z"
    }
   },
   "outputs": [
    {
     "ename": "",
     "evalue": "",
     "output_type": "error",
     "traceback": [
      "\u001b[1;31mFailed to start the Kernel. \n",
      "\u001b[1;31mKernel project_1 (Python 3.8.13) is not usable. Check the Jupyter output tab for more information. \n",
      "View Jupyter <a href='command:jupyter.viewOutput'>log</a> for further details."
     ]
    }
   ],
   "source": [
    "train_classifier(svc,X_train,y_train,X_test,y_test)"
   ]
  },
  {
   "cell_type": "code",
   "execution_count": null,
   "metadata": {
    "execution": {
     "iopub.execute_input": "2022-07-10T10:43:47.401184Z",
     "iopub.status.busy": "2022-07-10T10:43:47.400859Z",
     "iopub.status.idle": "2022-07-10T10:45:54.609653Z",
     "shell.execute_reply": "2022-07-10T10:45:54.608822Z",
     "shell.execute_reply.started": "2022-07-10T10:43:47.401154Z"
    }
   },
   "outputs": [
    {
     "ename": "",
     "evalue": "",
     "output_type": "error",
     "traceback": [
      "\u001b[1;31mFailed to start the Kernel. \n",
      "\u001b[1;31mKernel project_1 (Python 3.8.13) is not usable. Check the Jupyter output tab for more information. \n",
      "View Jupyter <a href='command:jupyter.viewOutput'>log</a> for further details."
     ]
    }
   ],
   "source": [
    "accuracy_scores = []\n",
    "precision_scores = []\n",
    "\n",
    "for name,clf in clfs.items():\n",
    "    \n",
    "    current_accuracy,current_precision = train_classifier(clf, X_train,y_train,X_test,y_test)\n",
    "    \n",
    "    print(\"For \",name)\n",
    "    print(\"Accuracy - \",current_accuracy)\n",
    "    print(\"Precision - \",current_precision)\n",
    "    \n",
    "    accuracy_scores.append(current_accuracy)\n",
    "    precision_scores.append(current_precision)\n"
   ]
  },
  {
   "cell_type": "code",
   "execution_count": null,
   "metadata": {
    "execution": {
     "iopub.execute_input": "2022-07-10T10:45:54.611919Z",
     "iopub.status.busy": "2022-07-10T10:45:54.611092Z",
     "iopub.status.idle": "2022-07-10T10:45:54.619572Z",
     "shell.execute_reply": "2022-07-10T10:45:54.618547Z",
     "shell.execute_reply.started": "2022-07-10T10:45:54.611879Z"
    }
   },
   "outputs": [
    {
     "ename": "",
     "evalue": "",
     "output_type": "error",
     "traceback": [
      "\u001b[1;31mFailed to start the Kernel. \n",
      "\u001b[1;31mKernel project_1 (Python 3.8.13) is not usable. Check the Jupyter output tab for more information. \n",
      "View Jupyter <a href='command:jupyter.viewOutput'>log</a> for further details."
     ]
    }
   ],
   "source": [
    "performance_df = pd.DataFrame({'Algorithm':clfs.keys(),'Accuracy':accuracy_scores,'Precision':precision_scores}).sort_values('Precision',ascending=False)"
   ]
  },
  {
   "cell_type": "code",
   "execution_count": null,
   "metadata": {
    "execution": {
     "iopub.execute_input": "2022-07-10T10:45:54.621978Z",
     "iopub.status.busy": "2022-07-10T10:45:54.621189Z",
     "iopub.status.idle": "2022-07-10T10:45:54.638517Z",
     "shell.execute_reply": "2022-07-10T10:45:54.637134Z",
     "shell.execute_reply.started": "2022-07-10T10:45:54.621941Z"
    }
   },
   "outputs": [
    {
     "ename": "",
     "evalue": "",
     "output_type": "error",
     "traceback": [
      "\u001b[1;31mFailed to start the Kernel. \n",
      "\u001b[1;31mKernel project_1 (Python 3.8.13) is not usable. Check the Jupyter output tab for more information. \n",
      "View Jupyter <a href='command:jupyter.viewOutput'>log</a> for further details."
     ]
    }
   ],
   "source": [
    "performance_df"
   ]
  },
  {
   "cell_type": "code",
   "execution_count": null,
   "metadata": {
    "execution": {
     "iopub.execute_input": "2022-07-10T10:45:54.642418Z",
     "iopub.status.busy": "2022-07-10T10:45:54.641453Z",
     "iopub.status.idle": "2022-07-10T10:45:54.649128Z",
     "shell.execute_reply": "2022-07-10T10:45:54.648001Z",
     "shell.execute_reply.started": "2022-07-10T10:45:54.642386Z"
    }
   },
   "outputs": [
    {
     "ename": "",
     "evalue": "",
     "output_type": "error",
     "traceback": [
      "\u001b[1;31mFailed to start the Kernel. \n",
      "\u001b[1;31mKernel project_1 (Python 3.8.13) is not usable. Check the Jupyter output tab for more information. \n",
      "View Jupyter <a href='command:jupyter.viewOutput'>log</a> for further details."
     ]
    }
   ],
   "source": [
    "performance_df1 = pd.melt(performance_df, id_vars = \"Algorithm\")"
   ]
  },
  {
   "cell_type": "code",
   "execution_count": null,
   "metadata": {
    "execution": {
     "iopub.execute_input": "2022-07-10T10:45:54.651228Z",
     "iopub.status.busy": "2022-07-10T10:45:54.650648Z",
     "iopub.status.idle": "2022-07-10T10:45:54.672304Z",
     "shell.execute_reply": "2022-07-10T10:45:54.671476Z",
     "shell.execute_reply.started": "2022-07-10T10:45:54.651199Z"
    }
   },
   "outputs": [
    {
     "ename": "",
     "evalue": "",
     "output_type": "error",
     "traceback": [
      "\u001b[1;31mFailed to start the Kernel. \n",
      "\u001b[1;31mKernel project_1 (Python 3.8.13) is not usable. Check the Jupyter output tab for more information. \n",
      "View Jupyter <a href='command:jupyter.viewOutput'>log</a> for further details."
     ]
    }
   ],
   "source": [
    "performance_df1"
   ]
  },
  {
   "cell_type": "code",
   "execution_count": null,
   "metadata": {
    "execution": {
     "iopub.execute_input": "2022-07-10T10:45:54.674876Z",
     "iopub.status.busy": "2022-07-10T10:45:54.673996Z",
     "iopub.status.idle": "2022-07-10T10:45:55.041313Z",
     "shell.execute_reply": "2022-07-10T10:45:55.040272Z",
     "shell.execute_reply.started": "2022-07-10T10:45:54.674778Z"
    }
   },
   "outputs": [
    {
     "ename": "",
     "evalue": "",
     "output_type": "error",
     "traceback": [
      "\u001b[1;31mFailed to start the Kernel. \n",
      "\u001b[1;31mKernel project_1 (Python 3.8.13) is not usable. Check the Jupyter output tab for more information. \n",
      "View Jupyter <a href='command:jupyter.viewOutput'>log</a> for further details."
     ]
    }
   ],
   "source": [
    "sns.catplot(x = 'Algorithm', y='value', \n",
    "               hue = 'variable',data=performance_df1, kind='bar',height=5)\n",
    "plt.ylim(0.5,1.0)\n",
    "plt.xticks(rotation='vertical')\n",
    "plt.show()"
   ]
  },
  {
   "cell_type": "markdown",
   "metadata": {},
   "source": [
    "# 5. Model Improvement"
   ]
  },
  {
   "cell_type": "markdown",
   "metadata": {},
   "source": [
    "### 5.1 Change the parameter *max_features* in TFIDF\n",
    "### 5.2 "
   ]
  },
  {
   "cell_type": "code",
   "execution_count": null,
   "metadata": {
    "execution": {
     "iopub.execute_input": "2022-07-10T10:45:55.043621Z",
     "iopub.status.busy": "2022-07-10T10:45:55.042651Z",
     "iopub.status.idle": "2022-07-10T10:45:55.051369Z",
     "shell.execute_reply": "2022-07-10T10:45:55.050385Z",
     "shell.execute_reply.started": "2022-07-10T10:45:55.043581Z"
    }
   },
   "outputs": [
    {
     "ename": "",
     "evalue": "",
     "output_type": "error",
     "traceback": [
      "\u001b[1;31mFailed to start the Kernel. \n",
      "\u001b[1;31mKernel project_1 (Python 3.8.13) is not usable. Check the Jupyter output tab for more information. \n",
      "View Jupyter <a href='command:jupyter.viewOutput'>log</a> for further details."
     ]
    }
   ],
   "source": [
    "temp_df = pd.DataFrame({'Algorithm':clfs.keys(),'Accuracy_max_ft_3000':accuracy_scores,'Precision_max_ft_3000':precision_scores}).sort_values('Precision_max_ft_3000',ascending=False)"
   ]
  },
  {
   "cell_type": "code",
   "execution_count": null,
   "metadata": {
    "execution": {
     "iopub.execute_input": "2022-07-10T10:45:55.053801Z",
     "iopub.status.busy": "2022-07-10T10:45:55.053194Z",
     "iopub.status.idle": "2022-07-10T10:45:55.062752Z",
     "shell.execute_reply": "2022-07-10T10:45:55.061879Z",
     "shell.execute_reply.started": "2022-07-10T10:45:55.053756Z"
    }
   },
   "outputs": [
    {
     "ename": "",
     "evalue": "",
     "output_type": "error",
     "traceback": [
      "\u001b[1;31mFailed to start the Kernel. \n",
      "\u001b[1;31mKernel project_1 (Python 3.8.13) is not usable. Check the Jupyter output tab for more information. \n",
      "View Jupyter <a href='command:jupyter.viewOutput'>log</a> for further details."
     ]
    }
   ],
   "source": [
    "temp_df = pd.DataFrame({'Algorithm':clfs.keys(),'Accuracy_scaling':accuracy_scores,'Precision_scaling':precision_scores}).sort_values('Precision_scaling',ascending=False)"
   ]
  },
  {
   "cell_type": "code",
   "execution_count": null,
   "metadata": {
    "execution": {
     "iopub.execute_input": "2022-07-10T10:45:55.064491Z",
     "iopub.status.busy": "2022-07-10T10:45:55.063986Z",
     "iopub.status.idle": "2022-07-10T10:45:55.076213Z",
     "shell.execute_reply": "2022-07-10T10:45:55.075178Z",
     "shell.execute_reply.started": "2022-07-10T10:45:55.064464Z"
    }
   },
   "outputs": [
    {
     "ename": "",
     "evalue": "",
     "output_type": "error",
     "traceback": [
      "\u001b[1;31mFailed to start the Kernel. \n",
      "\u001b[1;31mKernel project_1 (Python 3.8.13) is not usable. Check the Jupyter output tab for more information. \n",
      "View Jupyter <a href='command:jupyter.viewOutput'>log</a> for further details."
     ]
    }
   ],
   "source": [
    "new_df = performance_df.merge(temp_df,on='Algorithm')"
   ]
  },
  {
   "cell_type": "code",
   "execution_count": null,
   "metadata": {
    "execution": {
     "iopub.execute_input": "2022-07-10T10:45:55.07864Z",
     "iopub.status.busy": "2022-07-10T10:45:55.078335Z",
     "iopub.status.idle": "2022-07-10T10:45:55.090191Z",
     "shell.execute_reply": "2022-07-10T10:45:55.089281Z",
     "shell.execute_reply.started": "2022-07-10T10:45:55.078612Z"
    }
   },
   "outputs": [
    {
     "ename": "",
     "evalue": "",
     "output_type": "error",
     "traceback": [
      "\u001b[1;31mFailed to start the Kernel. \n",
      "\u001b[1;31mKernel project_1 (Python 3.8.13) is not usable. Check the Jupyter output tab for more information. \n",
      "View Jupyter <a href='command:jupyter.viewOutput'>log</a> for further details."
     ]
    }
   ],
   "source": [
    "new_df_scaled = new_df.merge(temp_df,on='Algorithm')"
   ]
  },
  {
   "cell_type": "code",
   "execution_count": null,
   "metadata": {
    "execution": {
     "iopub.execute_input": "2022-07-10T10:45:55.092047Z",
     "iopub.status.busy": "2022-07-10T10:45:55.09134Z",
     "iopub.status.idle": "2022-07-10T10:45:55.102149Z",
     "shell.execute_reply": "2022-07-10T10:45:55.101204Z",
     "shell.execute_reply.started": "2022-07-10T10:45:55.091994Z"
    }
   },
   "outputs": [
    {
     "ename": "",
     "evalue": "",
     "output_type": "error",
     "traceback": [
      "\u001b[1;31mFailed to start the Kernel. \n",
      "\u001b[1;31mKernel project_1 (Python 3.8.13) is not usable. Check the Jupyter output tab for more information. \n",
      "View Jupyter <a href='command:jupyter.viewOutput'>log</a> for further details."
     ]
    }
   ],
   "source": [
    "temp_df = pd.DataFrame({'Algorithm':clfs.keys(),'Accuracy_num_chars':accuracy_scores,'Precision_num_chars':precision_scores}).sort_values('Precision_num_chars',ascending=False)"
   ]
  },
  {
   "cell_type": "code",
   "execution_count": null,
   "metadata": {
    "execution": {
     "iopub.execute_input": "2022-07-10T10:45:55.10424Z",
     "iopub.status.busy": "2022-07-10T10:45:55.103399Z",
     "iopub.status.idle": "2022-07-10T10:45:55.129688Z",
     "shell.execute_reply": "2022-07-10T10:45:55.128938Z",
     "shell.execute_reply.started": "2022-07-10T10:45:55.104208Z"
    }
   },
   "outputs": [
    {
     "ename": "",
     "evalue": "",
     "output_type": "error",
     "traceback": [
      "\u001b[1;31mFailed to start the Kernel. \n",
      "\u001b[1;31mKernel project_1 (Python 3.8.13) is not usable. Check the Jupyter output tab for more information. \n",
      "View Jupyter <a href='command:jupyter.viewOutput'>log</a> for further details."
     ]
    }
   ],
   "source": [
    "new_df_scaled.merge(temp_df,on='Algorithm')"
   ]
  },
  {
   "cell_type": "code",
   "execution_count": null,
   "metadata": {
    "execution": {
     "iopub.execute_input": "2022-07-10T10:45:55.131389Z",
     "iopub.status.busy": "2022-07-10T10:45:55.1309Z",
     "iopub.status.idle": "2022-07-10T10:45:55.151965Z",
     "shell.execute_reply": "2022-07-10T10:45:55.151017Z",
     "shell.execute_reply.started": "2022-07-10T10:45:55.131358Z"
    }
   },
   "outputs": [
    {
     "ename": "",
     "evalue": "",
     "output_type": "error",
     "traceback": [
      "\u001b[1;31mFailed to start the Kernel. \n",
      "\u001b[1;31mKernel project_1 (Python 3.8.13) is not usable. Check the Jupyter output tab for more information. \n",
      "View Jupyter <a href='command:jupyter.viewOutput'>log</a> for further details."
     ]
    }
   ],
   "source": [
    "import pickle\n",
    "pickle.dump(tfidf,open('vectorizer.pkl','wb'))\n",
    "#wb --> write binary\n",
    "pickle.dump(mnb,open('model.pkl','wb'))"
   ]
  },
  {
   "cell_type": "code",
   "execution_count": null,
   "metadata": {},
   "outputs": [
    {
     "ename": "",
     "evalue": "",
     "output_type": "error",
     "traceback": [
      "\u001b[1;31mFailed to start the Kernel. \n",
      "\u001b[1;31mKernel project_1 (Python 3.8.13) is not usable. Check the Jupyter output tab for more information. \n",
      "View Jupyter <a href='command:jupyter.viewOutput'>log</a> for further details."
     ]
    }
   ],
   "source": []
  }
 ],
 "metadata": {
  "kernelspec": {
   "display_name": "Python 3.9.7 ('base')",
   "language": "python",
   "name": "python3"
  },
  "language_info": {
   "codemirror_mode": {
    "name": "ipython",
    "version": 3
   },
   "file_extension": ".py",
   "mimetype": "text/x-python",
   "name": "python",
   "nbconvert_exporter": "python",
   "pygments_lexer": "ipython3",
   "version": "3.9.7"
  },
  "vscode": {
   "interpreter": {
    "hash": "1448b48b023bcc9c3d4a79e814720a10ca6d4244f75e0f7ce4af58f96ba2b7d3"
   }
  }
 },
 "nbformat": 4,
 "nbformat_minor": 4
}
